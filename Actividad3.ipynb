{
  "nbformat": 4,
  "nbformat_minor": 0,
  "metadata": {
    "colab": {
      "provenance": [],
      "authorship_tag": "ABX9TyOcgsI07kqu4Q8t7Yd4SyYA",
      "include_colab_link": true
    },
    "kernelspec": {
      "name": "python3",
      "display_name": "Python 3"
    },
    "language_info": {
      "name": "python"
    }
  },
  "cells": [
    {
      "cell_type": "markdown",
      "metadata": {
        "id": "view-in-github",
        "colab_type": "text"
      },
      "source": [
        "<a href=\"https://colab.research.google.com/github/GerardoTsuchiya/Lenguade-de-Programacion-en-Python/blob/main/Actividad3.ipynb\" target=\"_parent\"><img src=\"https://colab.research.google.com/assets/colab-badge.svg\" alt=\"Open In Colab\"/></a>"
      ]
    },
    {
      "cell_type": "code",
      "execution_count": 5,
      "metadata": {
        "colab": {
          "base_uri": "https://localhost:8080/"
        },
        "cellView": "form",
        "id": "orrjaBqv4VNV",
        "outputId": "00461eb9-46bf-4812-955b-311cd3fca05f"
      },
      "outputs": [
        {
          "output_type": "stream",
          "name": "stdout",
          "text": [
            "Dame la primera calificacion: 120\n",
            "Dame la segunda calificacion: 100\n",
            "Dame la tercera calificacion: 100\n",
            "Error\n"
          ]
        }
      ],
      "source": [
        "# @title Ejercicio 1\n",
        "calif1 = float(input(\"Dame la primera calificacion: \"))\n",
        "calif2 = float(input(\"Dame la segunda calificacion: \"))\n",
        "calif3 = float(input(\"Dame la tercera calificacion: \"))\n",
        "prom = (calif1 + calif2 + calif3) / 3\n",
        "\n",
        "if prom >= 80:\n",
        "    if prom >= 98:\n",
        "        if prom > 100:\n",
        "            print(\"Error\")\n",
        "        else:\n",
        "            print(\"Excelente\")\n",
        "    elif prom >= 90:\n",
        "        print(\"Muy bien\")\n",
        "    else:\n",
        "        print(\"Bien\")\n",
        "elif prom >= 60:\n",
        "    if prom >= 70:\n",
        "        print(\"Regular\")\n",
        "    else:\n",
        "        print(\"Suficiente\")\n",
        "elif prom >= 30:\n",
        "    print(\"Extraordinario\")\n",
        "else:\n",
        "    print(\"Repetir\")"
      ]
    },
    {
      "cell_type": "code",
      "source": [
        "# @title Ejercicio 2\n",
        "horas_trabajadas = int(input(\"Cuantas horas trabajaste?\"))\n",
        "salario_hora = 100\n",
        "salario_extra = 0\n",
        "\n",
        "if horas_trabajadas <= 40:\n",
        "    salario_normal = horas_trabajadas * salario_hora\n",
        "else:\n",
        "    horas_extra = horas_trabajadas - 40\n",
        "    horas_dobleextra = horas_extra - 9\n",
        "    if horas_extra > 9:\n",
        "        salario_extra = ((horas_dobleextra) * (3 * salario_hora)) + (9 * (2 * salario_hora))\n",
        "    else:\n",
        "        salario_extra = horas_extra * (2 * salario_hora)\n",
        "\n",
        "salario_total = salario_normal + salario_extra\n",
        "\n",
        "print(f\"El salario por hora es de: ${salario_hora}\")\n",
        "print(f\"Esta semana trabajaste: {horas_trabajadas} horas\")\n",
        "print(f\"Tu salario normal sera de: ${salario_normal}\")\n",
        "print(f\"Tu salario extra sera de: ${salario_extra}\")\n",
        "print(f\"En total tu salario es de: ${salario_total}\")"
      ],
      "metadata": {
        "colab": {
          "base_uri": "https://localhost:8080/"
        },
        "cellView": "form",
        "id": "fiWhPEPwjO7K",
        "outputId": "e3eb551b-7aee-4035-e290-c14687904c02"
      },
      "execution_count": 11,
      "outputs": [
        {
          "output_type": "stream",
          "name": "stdout",
          "text": [
            "Cuantas horas trabajaste?40\n",
            "El salario por hora es de: $100\n",
            "Esta semana trabajaste: 40 horas\n",
            "Tu salario normal sera de: $4000\n",
            "Tu salario extra sera de: $0\n",
            "En total tu salario es de: $4000\n"
          ]
        }
      ]
    },
    {
      "cell_type": "code",
      "source": [
        "# @title Ejercicio 3\n",
        "print(\"1.- Llamada local\")\n",
        "print(\"2.- Llamada nacional\")\n",
        "print(\"3.- Llamada internacional\")\n",
        "tipo_llamada = int(input(\"Dame el tipo de llamada que hiciste: \"))\n",
        "minutos_llamada = int(input(\"Cuanto tiempo duro la llamada: \"))\n",
        "\n",
        "if tipo_llamada == 1:\n",
        "    subtotal = minutos_llamada * 3\n",
        "elif tipo_llamada == 2:\n",
        "    costo_adicional = 2\n",
        "    if minutos_llamada <= 3:\n",
        "        subtotal = minutos_llamada * 7\n",
        "    else:\n",
        "        minutos_extra = minutos_llamada - 3\n",
        "        subtotal = (3 * 7) + (minutos_extra * costo_adicional)\n",
        "else:\n",
        "    costo_adicional = 4\n",
        "    if minutos_llamada <= 2:\n",
        "        subtotal = minutos_llamada * 9\n",
        "    else:\n",
        "        minutos_extra = minutos_llamada - 2\n",
        "        subtotal = (2 * 9) + (minutos_extra * costo_adicional)\n",
        "\n",
        "iva = subtotal * 0.16\n",
        "total = subtotal + iva\n",
        "\n",
        "print(f\"El total a pagar de tu llamada es de: ${total}\")\n"
      ],
      "metadata": {
        "colab": {
          "base_uri": "https://localhost:8080/"
        },
        "cellView": "form",
        "id": "2hIIB8lsl3y7",
        "outputId": "3dc76689-ddf7-46b4-905c-f5eedfd4e8b6"
      },
      "execution_count": 12,
      "outputs": [
        {
          "output_type": "stream",
          "name": "stdout",
          "text": [
            "1.- Llamada local\n",
            "2.- Llamada nacional\n",
            "3.- Llamada internacional\n",
            "Dame el tipo de llamada que hiciste: 3\n",
            "Cuanto tiempo duro la llamada: 10\n",
            "El total a pagar de tu llamada es de: $58.0\n"
          ]
        }
      ]
    },
    {
      "cell_type": "code",
      "source": [
        "# @title Ejercicio 4\n",
        "agua_consumida = int(input(\"Cuantos metros cubicos se consumieron?: \"))\n",
        "\n",
        "if agua_consumida >= 16:\n",
        "    if agua_consumida >= 51:\n",
        "        subtotal = agua_consumida * 11\n",
        "    else:\n",
        "        subtotal = agua_consumida * 10\n",
        "elif agua_consumida >= 5:\n",
        "    subtotal = agua_consumida * 8\n",
        "else:\n",
        "    subtotal = 50\n",
        "\n",
        "iva = subtotal * 0.16\n",
        "total = subtotal + iva\n",
        "\n",
        "print(f\"Tu subtotal es de: ${subtotal}\")\n",
        "print(f\"El iva agregado (16%) es de: ${iva}\")\n",
        "print(f\"El total a pagar es de: ${total}\")"
      ],
      "metadata": {
        "colab": {
          "base_uri": "https://localhost:8080/"
        },
        "cellView": "form",
        "id": "oBZJlsfIoNgi",
        "outputId": "237e23a5-b023-429a-82b9-7def9f8456ac"
      },
      "execution_count": 17,
      "outputs": [
        {
          "output_type": "stream",
          "name": "stdout",
          "text": [
            "Cuantos metros cubicos se consumieron?: 51\n",
            "Tu subtotal es de: $561\n",
            "El iva agregado (16%) es de: $89.76\n",
            "El total a pagar es de: $650.76\n"
          ]
        }
      ]
    },
    {
      "cell_type": "code",
      "source": [
        "# @title Ejercicio 5\n",
        "calif1 = float(input(\"Calificacion del primer examen: \"))\n",
        "calif2 = float(input(\"Calificacion del segundo examen: \"))\n",
        "calif3 = float(input(\"Calificacion del tercer examen: \"))\n",
        "calif4 = float(input(\"Calificacion del cuarto examen: \"))\n",
        "calif5 = float(input(\"Calificacion del quinto examen: \"))\n",
        "\n",
        "menor = calif1\n",
        "prom = (calif2 + calif3 + calif4 + calif5) / 4\n",
        "\n",
        "if calif2 < menor:\n",
        "    menor = calif2\n",
        "    prom = (calif1 + calif3 + calif4 + calif5) / 4\n",
        "\n",
        "if calif3 < menor:\n",
        "    menor = calif3\n",
        "    prom = (calif1 + calif2 + calif4 + calif5) / 4\n",
        "\n",
        "if calif4 < menor:\n",
        "    menor = calif4\n",
        "    prom = (calif1 + calif2 + calif3 + calif5) / 4\n",
        "\n",
        "if calif5 < menor:\n",
        "    menor = calif5\n",
        "    prom = (calif1 + calif2 + calif3 + calif4) / 4\n",
        "\n",
        "print(f\"La calificacion descartada fue: {menor}\")\n",
        "print(f\"El promedio final es de: {prom}\")           "
      ],
      "metadata": {
        "colab": {
          "base_uri": "https://localhost:8080/"
        },
        "cellView": "form",
        "id": "ACOYRERjqqOv",
        "outputId": "e0714765-69e4-4ce7-b206-642d4e93e469"
      },
      "execution_count": 75,
      "outputs": [
        {
          "output_type": "stream",
          "name": "stdout",
          "text": [
            "Calificacion del primer examen: 100\n",
            "Calificacion del segundo examen: 5\n",
            "Calificacion del tercer examen: 100\n",
            "Calificacion del cuarto examen: 100\n",
            "Calificacion del quinto examen: 100\n",
            "La calificacion descartada fue: 5.0\n",
            "El promedio final es de: 100.0\n"
          ]
        }
      ]
    },
    {
      "cell_type": "code",
      "source": [
        "# @title Ejercicio 6\n",
        "import random\n",
        "print(\"1.- Piedra \\n2.- Papel \\n3.- Tijeras\")\n",
        "opcion = int(input(\"Que opcion eliges?: \"))\n",
        "computadora = random.randint(1, 3)\n",
        "\n",
        "if opcion == 1:\n",
        "    if computadora == 1:\n",
        "        print(\"La computadora escogio piedra, empate!\")\n",
        "    else:\n",
        "        if computadora == 2:\n",
        "            print(\"La computadora escogio papel, pierdes!\")\n",
        "        else:\n",
        "            print(\"La computadora escogio tijeras, ganas!\")\n",
        "else:\n",
        "    if opcion == 2:\n",
        "        if computadora == 1:\n",
        "            print(\"La computadora escogio piedra, ganas!\")\n",
        "        else:\n",
        "            if computadora == 2:\n",
        "                print(\"La computadora escogio papel, empate!\")\n",
        "            else:\n",
        "                print(\"La computadora escogio tijeras, pierdes!\")\n",
        "    else:\n",
        "        if opcion == 3:\n",
        "            if computadora == 1:\n",
        "                print(\"La computadora escogio piedra, pierdes!\")\n",
        "            else:\n",
        "                if computadora == 2:\n",
        "                    print(\"La computadora escogio papel, ganas!\")\n",
        "                else:\n",
        "                    print(\"La computadora escogio tijeras, empate!\")"
      ],
      "metadata": {
        "colab": {
          "base_uri": "https://localhost:8080/"
        },
        "cellView": "form",
        "id": "dELvWsC8vzWb",
        "outputId": "6cfb2b89-7f5a-4ced-92f8-ee7ac5541f85"
      },
      "execution_count": 59,
      "outputs": [
        {
          "output_type": "stream",
          "name": "stdout",
          "text": [
            "1.- Piedra \n",
            "2.- Papel \n",
            "3.- Tijeras\n",
            "Que opcion eliges?: 3\n",
            "La computadora escogio papel, ganas!\n"
          ]
        }
      ]
    },
    {
      "cell_type": "code",
      "source": [
        "# @title Ejercicio 7\n",
        "import random\n",
        "print(\"1.- Piedra \\n2.- Papel \\n3.- Tijeras\")\n",
        "opcion = int(input(\"Que opcion eliges?: \"))\n",
        "computadora = random.randint(1, 3)\n",
        "\n",
        "if opcion == 1:\n",
        "    if computadora == 1:\n",
        "        print(\"La computadora escogio piedra, empate!\")\n",
        "    elif computadora == 2:\n",
        "        print(\"La computadora escogio papel, pierdes!\")\n",
        "    else:\n",
        "        print(\"La computadora escogio tijeras, ganas!\")\n",
        "\n",
        "elif opcion == 2:\n",
        "    if computadora == 1:\n",
        "        print(\"La computadora escogio piedra, ganas!\")\n",
        "    elif computadora == 2:\n",
        "        print(\"La computadora escogio papel, empate!\")\n",
        "    else:\n",
        "        print(\"La computadora escogio tijeras, pierdes!\")\n",
        "\n",
        "elif opcion == 3:\n",
        "    if computadora == 1:\n",
        "        print(\"La computadora escogio piedra, pierdes!\")\n",
        "    elif computadora == 2:\n",
        "        print(\"La computadora escogio papel, ganas!\")\n",
        "    else:\n",
        "        print(\"La computadora escogio tijeras, empate!\")"
      ],
      "metadata": {
        "colab": {
          "base_uri": "https://localhost:8080/"
        },
        "cellView": "form",
        "id": "DPjUbE1E0i-Q",
        "outputId": "49dbd802-4e92-43fe-f446-116489d78b6a"
      },
      "execution_count": 63,
      "outputs": [
        {
          "output_type": "stream",
          "name": "stdout",
          "text": [
            "1.- Piedra \n",
            "2.- Papel \n",
            "3.- Tijeras\n",
            "Que opcion eliges?: 1\n",
            "La computadora escogio tijeras, ganas!\n"
          ]
        }
      ]
    },
    {
      "cell_type": "code",
      "source": [
        "# @title Ejercicio 8\n",
        "print(\"1.- Computadora ($100) \\n2.- Impresora ($100) \\n3.- Television ($100)\")\n",
        "print(\"4.- Barra de sonido ($100) \\n5.- Consola ($100) \\n6.- Juego ($100)\")\n",
        "primera_compra = int(input(\"Primera compra: \"))\n",
        "segunda_compra = int(input(\"Segunda compra: \"))\n",
        "\n",
        "if primera_compra == 1:\n",
        "    if segunda_compra == 2:\n",
        "        descuento = (100 * 0.05) + (100 * 0.10)\n",
        "        total = 200 - descuento\n",
        "    else:\n",
        "        total = 200\n",
        "elif primera_compra == 2:\n",
        "    if segunda_compra == 1:\n",
        "        descuento = (100 * 0.05) + (100 * 0.10)\n",
        "        total = 200 - descuento\n",
        "    else:\n",
        "        total = 200\n",
        "elif primera_compra == 3:\n",
        "    if segunda_compra == 4:\n",
        "        descuento = (100 * 0.07) + (100 * 0.15)\n",
        "        total = 200 - descuento\n",
        "    else:\n",
        "        total = 200\n",
        "elif primera_compra == 4:\n",
        "    if segunda_compra == 3:\n",
        "        descuento = (100 * 0.7) + (100 * 0.15)\n",
        "        total = 200 - descuento\n",
        "    else:\n",
        "        total = 200\n",
        "elif primera_compra == 5:\n",
        "    if segunda_compra == 6:\n",
        "        descuento = (100 * 0.10) + (100 * 0.20)\n",
        "        total = 200 - descuento\n",
        "    else:\n",
        "        total = 200\n",
        "elif primera_compra == 6:\n",
        "    if segunda_compra == 5:\n",
        "        descuento = (100 * 0.10) + (100 * 0.20)\n",
        "        total = 200 - descuento\n",
        "else:\n",
        "    total = 200\n",
        "\n",
        "print(f\"El total de tu compra es de: ${total}\")"
      ],
      "metadata": {
        "colab": {
          "base_uri": "https://localhost:8080/"
        },
        "cellView": "form",
        "id": "JVIszTSV1jqc",
        "outputId": "efdc44a8-a24e-4759-8ccd-97f6ceab72ac"
      },
      "execution_count": 72,
      "outputs": [
        {
          "output_type": "stream",
          "name": "stdout",
          "text": [
            "1.- Computadora ($100) \n",
            "2.- Impresora ($100) \n",
            "3.- Television ($100)\n",
            "4.- Barra de sonido ($100) \n",
            "5.- Consola ($100) \n",
            "6.- Juego ($100)\n",
            "Primera compra: 1\n",
            "Segunda compra: 2\n",
            "El total de tu compra es de: $185.0\n"
          ]
        }
      ]
    }
  ]
}