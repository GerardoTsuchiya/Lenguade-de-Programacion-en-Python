{
  "nbformat": 4,
  "nbformat_minor": 0,
  "metadata": {
    "colab": {
      "provenance": [],
      "authorship_tag": "ABX9TyMrTOQCEthI715yhr71SW2Q",
      "include_colab_link": true
    },
    "kernelspec": {
      "name": "python3",
      "display_name": "Python 3"
    },
    "language_info": {
      "name": "python"
    }
  },
  "cells": [
    {
      "cell_type": "markdown",
      "metadata": {
        "id": "view-in-github",
        "colab_type": "text"
      },
      "source": [
        "<a href=\"https://colab.research.google.com/github/GerardoTsuchiya/Lenguade-de-Programacion-en-Python/blob/main/Actividad_6.ipynb\" target=\"_parent\"><img src=\"https://colab.research.google.com/assets/colab-badge.svg\" alt=\"Open In Colab\"/></a>"
      ]
    },
    {
      "cell_type": "code",
      "source": [
        "from IPython.display import clear_output\n",
        "from random import randint"
      ],
      "metadata": {
        "id": "TcE6vdsouBZd"
      },
      "execution_count": 1,
      "outputs": []
    },
    {
      "cell_type": "code",
      "source": [
        "def vali_num(msg=\"Dame un numero \", ri=-320000, rf=320000, msg2=\"Error de rango \", msg3=\"Solo numeros \"):\n",
        "\n",
        "  while True:\n",
        "      try:\n",
        "          num = float(input(msg))\n",
        "      except ValueError:\n",
        "          print(msg3)\n",
        "          continue\n",
        "      if num not in range(ri, rf):\n",
        "          print(msg2)\n",
        "          continue\n",
        "      else:\n",
        "          break\n",
        "\n",
        "  return num"
      ],
      "metadata": {
        "id": "_n6ZLu22nreU"
      },
      "execution_count": 2,
      "outputs": []
    },
    {
      "cell_type": "code",
      "source": [
        "def suma_num():\n",
        "    ri = int(input(\"Dame el limite inferior: \"))\n",
        "    rf = int(input(\"Dame el limite superior:  \"))\n",
        "\n",
        "    suma = 0\n",
        "    contador = 0\n",
        "    num_mayor = 0\n",
        "    num_menor = 9999\n",
        "    msg = \"Dame un numero: \" \n",
        "    while(True):\n",
        "        num = vali_num(msg , ri, rf)\n",
        "        suma += num\n",
        "        contador += 1\n",
        "        \n",
        "        if num > num_mayor:\n",
        "                num_mayor = num\n",
        "\n",
        "        if num < num_menor:\n",
        "                num_menor = num\n",
        "                \n",
        "        \n",
        "        seguir = input(\"Quieres continuar? s/n: \")\n",
        "\n",
        "        if seguir == \"s\":\n",
        "            continue\n",
        "        else:\n",
        "            break\n",
        "\n",
        "    print(f\"Suma de los numeros: {suma}\\nPromedio: {suma / contador}\")\n",
        "    print(f\"El numero mayor es: {num_mayor}\\nEl numero menor es: {num_menor}\")\n",
        "  "
      ],
      "metadata": {
        "id": "QdqLDuofpsSQ"
      },
      "execution_count": 20,
      "outputs": []
    },
    {
      "cell_type": "code",
      "source": [
        "def impares():\n",
        "    suma_par = 0\n",
        "    suma_impar = 0\n",
        "    contador_par = 0\n",
        "    contador_impar = 0\n",
        "    \n",
        "    for i in range(25):\n",
        "        num = randint(10, 60)\n",
        "\n",
        "        if num%2 == 0:\n",
        "            contador_par += 1\n",
        "            suma_par += num\n",
        "            print(f\"{num} -- Par #{contador_par}\")\n",
        "        else:\n",
        "            contador_impar += 1\n",
        "            suma_impar += num\n",
        "            print(f\"{num} -- Impar#{contador_impar}\")\n",
        "\n",
        "            if contador_impar == 15:\n",
        "                break\n",
        "\n",
        "    print(f\"Media de pares: {suma_par / contador_par}\")\n",
        "    print(f\"Media de impares: {suma_impar / contador_impar}\")"
      ],
      "metadata": {
        "id": "B3lv_tiYt3UN"
      },
      "execution_count": 21,
      "outputs": []
    },
    {
      "cell_type": "code",
      "source": [
        "def validar_rango():  \n",
        "  def vali_rango(min=0, max=0):\n",
        "      contador = 0\n",
        "      suma = 0\n",
        "      msg = \"Dame un numero: \" \n",
        "      while(True):\n",
        "          num = vali_num(msg, min, max)\n",
        "\n",
        "          if num in range(min, max):\n",
        "              suma += num\n",
        "              contador += 1\n",
        "              seguir = input(\"Numero validado, quieres continuar? s/n: \")\n",
        "\n",
        "              if seguir == \"s\":\n",
        "                  continue\n",
        "              else:\n",
        "                  break\n",
        "          else:\n",
        "              seguir = input(\"Numero no esta dentro del rango, quieres continuar? s/n: \")\n",
        "\n",
        "              if seguir == \"s\":\n",
        "                  continue\n",
        "              else:\n",
        "                  break\n",
        "\n",
        "      print(f\"La cantidad de numeros validados es de: {contador}\")\n",
        "      print(f\"La media de los numeros validados es de: {suma / contador}\")\n",
        "\n",
        "  min = int(input(\"Cual quieres que sea el numero minimo del rango: \"))\n",
        "  max = int(input(\"Cual quieres que sea el numero maximo del rango: \"))\n",
        "  vali_rango(min, max)"
      ],
      "metadata": {
        "id": "ziUFl4JnuWKh"
      },
      "execution_count": 5,
      "outputs": []
    },
    {
      "cell_type": "code",
      "source": [
        "def triangulo(): \n",
        "  def area_triangulo(base, altura):\n",
        "      area = (base * altura) / 2\n",
        "\n",
        "      return print(f\"El area del triangulo es: {area}\")\n",
        "\n",
        "  msg = \"Dame el valor de la base: \"\n",
        "  base = vali_num(msg)\n",
        "  msg = \"Dame el valor de la altura: \"\n",
        "  altura = vali_num(msg)\n",
        "\n",
        "  area_triangulo(base, altura)"
      ],
      "metadata": {
        "id": "6mKx-YuNxXEw"
      },
      "execution_count": 6,
      "outputs": []
    },
    {
      "cell_type": "code",
      "source": [
        "def aprobar():\n",
        "    intento = 0\n",
        "    msg = \"Dame el promedio de la materia: \"\n",
        "    while (True):\n",
        "        promedio = vali_num(msg, 0, 100)\n",
        "        if promedio >= 60:\n",
        "            print(\"Felicidades, pasaste\")\n",
        "            break\n",
        "        else:\n",
        "            intento += 1\n",
        "            if intento != 3:\n",
        "               print(\"Debes repetir la materia\")\n",
        "            else:\n",
        "               print(\"Reprobaste 3 veces, baja academica\")\n",
        "               break\n"
      ],
      "metadata": {
        "id": "LlsdND9Qz038"
      },
      "execution_count": 7,
      "outputs": []
    },
    {
      "cell_type": "code",
      "source": [
        "def menu():\n",
        "    print(\"1.- Suma de numeros\")\n",
        "    print(\"2.- Numeros impares\")\n",
        "    print(\"3.- Lectura de rango\")\n",
        "    print(\"4.- Area de triangulo\")\n",
        "    print(\"5.- Pasar, reprobar, baja\")\n",
        "    print(\"0.- Salir\")"
      ],
      "metadata": {
        "id": "iQJzNT1g3cUz"
      },
      "execution_count": 8,
      "outputs": []
    },
    {
      "cell_type": "code",
      "source": [
        "while True:\n",
        "      menu()\n",
        "      try:\n",
        "          opcion = int(input(\"Que funcion gustas utilizar?: \"))\n",
        "      except ValueError:\n",
        "          print(\"Solo numeros por favor\")\n",
        "      \n",
        "      if opcion == 1:\n",
        "            clear_output()\n",
        "            suma_num()\n",
        "            input(\"Presiona cualquier tecla para borrar pantalla\")\n",
        "            clear_output()\n",
        "      elif opcion == 2:\n",
        "            clear_output()\n",
        "            impares()\n",
        "            input(\"Presiona cualquier tecla para borrar pantalla\")\n",
        "            clear_output()\n",
        "      elif opcion == 3:\n",
        "            clear_output()\n",
        "            validar_rango()\n",
        "            input(\"Presiona cualquier tecla para borrar pantalla\")\n",
        "            clear_output()\n",
        "      elif opcion == 4:\n",
        "            clear_output()\n",
        "            triangulo()\n",
        "            input(\"Presiona cualquier tecla para borrar pantalla\")\n",
        "            clear_output()\n",
        "      elif opcion == 5:\n",
        "            clear_output()\n",
        "            aprobar()\n",
        "            input(\"Presiona cualquier tecla para borrar pantalla\")\n",
        "            clear_output()\n",
        "      elif opcion == 0:\n",
        "            print(\"Gracias por participar\")\n",
        "            break"
      ],
      "metadata": {
        "id": "FgviNmp24AXG"
      },
      "execution_count": null,
      "outputs": []
    }
  ]
}