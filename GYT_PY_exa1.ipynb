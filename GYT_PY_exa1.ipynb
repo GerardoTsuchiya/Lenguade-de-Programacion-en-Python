{
  "nbformat": 4,
  "nbformat_minor": 0,
  "metadata": {
    "colab": {
      "provenance": [],
      "authorship_tag": "ABX9TyPcK952GbtWX+rNljKMUY5e",
      "include_colab_link": true
    },
    "kernelspec": {
      "name": "python3",
      "display_name": "Python 3"
    },
    "language_info": {
      "name": "python"
    }
  },
  "cells": [
    {
      "cell_type": "markdown",
      "metadata": {
        "id": "view-in-github",
        "colab_type": "text"
      },
      "source": [
        "<a href=\"https://colab.research.google.com/github/GerardoTsuchiya/Lenguade-de-Programacion-en-Python/blob/main/GYT_PY_exa1.ipynb\" target=\"_parent\"><img src=\"https://colab.research.google.com/assets/colab-badge.svg\" alt=\"Open In Colab\"/></a>"
      ]
    },
    {
      "cell_type": "markdown",
      "source": [
        "Escribe una funcion de Python en collaboratory que realice lo siguiente:\n",
        "\n",
        "funcion que retorne un numero dentro de un rango dado, validar el numero que cumpla el requisito del rango, la funcion debera validar que el programa no marque error por introducir informacion erronea (usar try except)\n",
        "\n",
        "Escribir codigo que mande llamar la funcion y desplegar el resultado,"
      ],
      "metadata": {
        "id": "MBczeBw5vuTF"
      }
    },
    {
      "cell_type": "code",
      "execution_count": 1,
      "metadata": {
        "id": "v6QRUma1uY03"
      },
      "outputs": [],
      "source": [
        "def vali_num(ri=-320000, rf=320000, msg = \"Dame un numero: \", msg2=\"Error de rango \", msg3=\"Solo numeros \"):\n",
        "\n",
        "  while True:\n",
        "      try:\n",
        "          num =  int(input(msg))\n",
        "      except ValueError:\n",
        "          print(msg3)\n",
        "          continue\n",
        "      if num not in range(ri, rf):\n",
        "          print(msg2)\n",
        "          continue\n",
        "      else:\n",
        "          break\n",
        "\n",
        "  return num"
      ]
    },
    {
      "cell_type": "code",
      "source": [
        "ri = int(input(\"Dame el rango inferior: \"))\n",
        "rf = int(input(\"Dame el rango superior: \"))\n",
        "vali_num(ri, rf)"
      ],
      "metadata": {
        "id": "hD1ZDWWtuwME"
      },
      "execution_count": null,
      "outputs": []
    }
  ]
}