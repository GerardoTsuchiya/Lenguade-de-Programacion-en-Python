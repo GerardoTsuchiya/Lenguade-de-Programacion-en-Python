{
  "nbformat": 4,
  "nbformat_minor": 0,
  "metadata": {
    "colab": {
      "provenance": [],
      "authorship_tag": "ABX9TyPwMiereUOc8QQkqKgMYoil",
      "include_colab_link": true
    },
    "kernelspec": {
      "name": "python3",
      "display_name": "Python 3"
    },
    "language_info": {
      "name": "python"
    }
  },
  "cells": [
    {
      "cell_type": "markdown",
      "metadata": {
        "id": "view-in-github",
        "colab_type": "text"
      },
      "source": [
        "<a href=\"https://colab.research.google.com/github/GerardoTsuchiya/Lenguade-de-Programacion-en-Python/blob/main/GYT_PY_exa1.ipynb\" target=\"_parent\"><img src=\"https://colab.research.google.com/assets/colab-badge.svg\" alt=\"Open In Colab\"/></a>"
      ]
    },
    {
      "cell_type": "markdown",
      "source": [
        "Escribe una funcion de Python en collaboratory que realice lo siguiente:\n",
        "\n",
        "funcion que retorne un numero dentro de un rango dado, validar el numero que cumpla el requisito del rango, la funcion debera validar que el programa no marque error por introducir informacion erronea (usar try except)\n",
        "\n",
        "Escribir codigo que mande llamar la funcion y desplegar el resultado,"
      ],
      "metadata": {
        "id": "MBczeBw5vuTF"
      }
    },
    {
      "cell_type": "code",
      "source": [
        "import random"
      ],
      "metadata": {
        "id": "rOld5CR_wVu1"
      },
      "execution_count": 3,
      "outputs": []
    },
    {
      "cell_type": "code",
      "execution_count": 1,
      "metadata": {
        "id": "v6QRUma1uY03"
      },
      "outputs": [],
      "source": [
        "def vali_num(ri=-320000, rf=320000, msg = \"Dame un numero: \", msg2=\"Error de rango \", msg3=\"Solo numeros \"):\n",
        "\n",
        "  while True:\n",
        "      try:\n",
        "          num =  int(input(msg))\n",
        "      except ValueError:\n",
        "          print(msg3)\n",
        "          continue\n",
        "      if num not in range(ri, rf):\n",
        "          print(msg2)\n",
        "          continue\n",
        "      else:\n",
        "          break\n",
        "\n",
        "  return num"
      ]
    },
    {
      "cell_type": "markdown",
      "source": [
        "Crear una lista de 30 numeros (20, 100) no repetidos"
      ],
      "metadata": {
        "id": "S7XRvBAx06vs"
      }
    },
    {
      "cell_type": "code",
      "source": [
        "ri = int(input(\"Dame el rango inferior: \"))\n",
        "rf = int(input(\"Dame el rango superior: \"))\n",
        "vali_num(ri, rf)"
      ],
      "metadata": {
        "id": "hD1ZDWWtuwME"
      },
      "execution_count": null,
      "outputs": []
    },
    {
      "cell_type": "code",
      "source": [
        "def lista_random():\n",
        "  num = list(range(20, 100))\n",
        "  lista = random.sample(num, 30)\n",
        "\n",
        "  print(lista)\n",
        "lista_random()"
      ],
      "metadata": {
        "colab": {
          "base_uri": "https://localhost:8080/"
        },
        "id": "9wBxw3nPwX1s",
        "outputId": "a41782af-3581-46f5-c169-347fc1e9ae14"
      },
      "execution_count": 22,
      "outputs": [
        {
          "output_type": "stream",
          "name": "stdout",
          "text": [
            "[51, 45, 64, 98, 47, 69, 31, 58, 34, 24, 25, 96, 66, 80, 70, 86, 41, 53, 78, 56, 57, 91, 72, 59, 84, 42, 90, 99, 87, 81]\n"
          ]
        }
      ]
    },
    {
      "cell_type": "markdown",
      "source": [
        "Escribe una funcion de Python en collaboratory que realice lo siguiente:\n",
        "\n",
        "funcion que retorne el resultado del area de un triangulo\n",
        "\n",
        "Escribir codigo que mande llamar la funcion y desplegar el resultado,\n",
        "\n",
        "VALIDAR da tos entrada"
      ],
      "metadata": {
        "id": "9OyjQQj81C92"
      }
    },
    {
      "cell_type": "code",
      "source": [
        "def area_triangulo(base = 0, altura = 0):\n",
        "  area = (base * altura) / 2\n",
        "  print(f\"El area de tu triangulo es de: {area} unidades cuadradas\")\n",
        "\n",
        "base = int(input(\"Dame el valor de la base: \"))\n",
        "altura = int(input(\"Dame el valor de la altura: \"))\n",
        "area_triangulo(base, altura)"
      ],
      "metadata": {
        "colab": {
          "base_uri": "https://localhost:8080/"
        },
        "id": "N7sKWZN21Eb3",
        "outputId": "e3b54e60-9580-4ee4-d8c0-f457d1fc092f"
      },
      "execution_count": 23,
      "outputs": [
        {
          "output_type": "stream",
          "name": "stdout",
          "text": [
            "Dame el valor de la base: 10\n",
            "Dame el valor de la altura: 10\n",
            "El area de tu triangulo es de: 50.0 unidades cuadradas\n"
          ]
        }
      ]
    }
  ]
}