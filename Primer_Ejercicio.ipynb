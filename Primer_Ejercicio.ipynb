{
  "nbformat": 4,
  "nbformat_minor": 0,
  "metadata": {
    "colab": {
      "provenance": [],
      "authorship_tag": "ABX9TyMGcJMhKF4SzTVg79VlSADO",
      "include_colab_link": true
    },
    "kernelspec": {
      "name": "python3",
      "display_name": "Python 3"
    },
    "language_info": {
      "name": "python"
    }
  },
  "cells": [
    {
      "cell_type": "markdown",
      "metadata": {
        "id": "view-in-github",
        "colab_type": "text"
      },
      "source": [
        "<a href=\"https://colab.research.google.com/github/GerardoTsuchiya/Lenguade-de-Programacion-en-Python/blob/main/Primer_Ejercicio.ipynb\" target=\"_parent\"><img src=\"https://colab.research.google.com/assets/colab-badge.svg\" alt=\"Open In Colab\"/></a>"
      ]
    },
    {
      "cell_type": "code",
      "source": [
        "# @title Este es el que tranza pa\n",
        "print (\"Que tranza pa\")\n",
        "print ('Que tranza pa')\n"
      ],
      "metadata": {
        "colab": {
          "base_uri": "https://localhost:8080/"
        },
        "id": "UHL9Q8GO5fCA",
        "outputId": "0b12fde4-e7c8-4623-bb01-3e7bbb23b6ae",
        "cellView": "form"
      },
      "execution_count": 2,
      "outputs": [
        {
          "output_type": "stream",
          "name": "stdout",
          "text": [
            "Que tranza pa\n",
            "Que tranza pa\n"
          ]
        }
      ]
    },
    {
      "cell_type": "code",
      "source": [
        "texto = \"woow\"\n",
        "print(\"Hola \", end=f\"{texto}\")"
      ],
      "metadata": {
        "colab": {
          "base_uri": "https://localhost:8080/"
        },
        "id": "KHkBknqVAwLR",
        "outputId": "f19c27fb-8fba-4e76-f73f-c5df86116f9c"
      },
      "execution_count": 4,
      "outputs": [
        {
          "output_type": "stream",
          "name": "stdout",
          "text": [
            "Hola woow"
          ]
        }
      ]
    },
    {
      "cell_type": "code",
      "source": [
        "print(\"Un tipo le dice a otro:  \\\"¿Como estas?\\\"\")"
      ],
      "metadata": {
        "colab": {
          "base_uri": "https://localhost:8080/"
        },
        "id": "ZfvDuMjdCeKD",
        "outputId": "13e32d9a-1bea-42d6-d803-e5faed0e425b"
      },
      "execution_count": 7,
      "outputs": [
        {
          "output_type": "stream",
          "name": "stdout",
          "text": [
            "Un tipo le dice a otro:  \"¿Como estas?\"\n"
          ]
        }
      ]
    },
    {
      "cell_type": "code",
      "source": [
        "print('Y el otro le contesta: \"woow\"')"
      ],
      "metadata": {
        "colab": {
          "base_uri": "https://localhost:8080/"
        },
        "id": "hngR9chYCvCy",
        "outputId": "7804cb2a-2e09-4c20-a12d-20f4f22fa9e2"
      },
      "execution_count": 8,
      "outputs": [
        {
          "output_type": "stream",
          "name": "stdout",
          "text": [
            "Y el otro le contesta: \"woow\"\n"
          ]
        }
      ]
    },
    {
      "cell_type": "code",
      "source": [
        "nombre = \"Estroncio\"\n",
        "edad = 20\n",
        "print(f\"Me llamo {nombre} y tengo {edad*5} años\")"
      ],
      "metadata": {
        "colab": {
          "base_uri": "https://localhost:8080/"
        },
        "id": "G0eN0n9kDfEK",
        "outputId": "fbeddbf1-70be-4b06-98e3-898bbac104db"
      },
      "execution_count": 10,
      "outputs": [
        {
          "output_type": "stream",
          "name": "stdout",
          "text": [
            "Me llamo Estroncio y tengo 100 años\n"
          ]
        }
      ]
    }
  ]
}