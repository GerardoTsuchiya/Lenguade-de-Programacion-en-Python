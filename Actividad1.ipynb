{
  "nbformat": 4,
  "nbformat_minor": 0,
  "metadata": {
    "colab": {
      "provenance": [],
      "authorship_tag": "ABX9TyP6bW/bW7pxAzOX6a+yrjer",
      "include_colab_link": true
    },
    "kernelspec": {
      "name": "python3",
      "display_name": "Python 3"
    },
    "language_info": {
      "name": "python"
    }
  },
  "cells": [
    {
      "cell_type": "markdown",
      "metadata": {
        "id": "view-in-github",
        "colab_type": "text"
      },
      "source": [
        "<a href=\"https://colab.research.google.com/github/GerardoTsuchiya/Lenguade-de-Programacion-en-Python/blob/main/Actividad1.ipynb\" target=\"_parent\"><img src=\"https://colab.research.google.com/assets/colab-badge.svg\" alt=\"Open In Colab\"/></a>"
      ]
    },
    {
      "cell_type": "code",
      "execution_count": null,
      "metadata": {
        "colab": {
          "base_uri": "https://localhost:8080/"
        },
        "id": "wOV3s7i0EjZB",
        "outputId": "509cb8a7-53ef-43b0-efbd-a688311b38a3"
      },
      "outputs": [
        {
          "output_type": "stream",
          "name": "stdout",
          "text": [
            "Hola mundo\n"
          ]
        }
      ],
      "source": [
        "# @title Programa 1\n",
        "print(\"Hola \", end=\"\")\n",
        "print(\"mundo\")"
      ]
    },
    {
      "cell_type": "code",
      "source": [
        "# @title Programa 2\n",
        "num1 = float(input(\"Dame un numero: \"))\n",
        "num2 = float(input(\"Dame otro numero: \"))\n",
        "print(f\"La suma de los numeros es: {num1 + num2}\")"
      ],
      "metadata": {
        "id": "LKBjmN8HxTgk",
        "outputId": "4394a671-7547-4506-a7cb-81cedece8c80",
        "colab": {
          "base_uri": "https://localhost:8080/"
        }
      },
      "execution_count": 7,
      "outputs": [
        {
          "output_type": "stream",
          "name": "stdout",
          "text": [
            "Dame un numero: 10.5\n",
            "Dame otro numero: 30.2\n",
            "La suma de los numeros es: 40.7\n"
          ]
        }
      ]
    },
    {
      "cell_type": "code",
      "source": [
        "# @title Programa 3\n",
        "num1 = float(input(\"Dame un numero: \"))\n",
        "num2 = float(input(\"Dame otro numero: \"))\n",
        "print(f\"Suma: {num1 + num2}\")\n",
        "print(f\"Resta: {num1 - num2}\")\n",
        "print(f\"Multiplicacion: {num1 * num2}\")\n",
        "print(f\"Divicion: {num1 / num2}\")"
      ],
      "metadata": {
        "cellView": "form",
        "id": "DhIxNFLSyIkT",
        "outputId": "e93b4aa8-1545-4a57-d25b-25cc9d37b58e",
        "colab": {
          "base_uri": "https://localhost:8080/"
        }
      },
      "execution_count": 9,
      "outputs": [
        {
          "output_type": "stream",
          "name": "stdout",
          "text": [
            "Dame un numero: 10\n",
            "Dame otro numero: 10\n",
            "Suma: 20.0\n",
            "Resta: 0.0\n",
            "Multiplicacion: 100.0\n",
            "Divicion: 1.0\n"
          ]
        }
      ]
    },
    {
      "cell_type": "code",
      "source": [
        "# @title Programa 4\n",
        "base = float(input(\"Cual es el valor de la base?: \"))\n",
        "altura = float(input(\"Cual es el valor de su altura?: \"))\n",
        "area_triangulo = base*altura/2\n",
        "print(f\"El area del triangulo de base {base}, altura {altura} es de: {area_triangulo}\")"
      ],
      "metadata": {
        "id": "ueNyjuDPzA3k",
        "outputId": "0b93f097-404f-4e52-e913-969acff4c8fc",
        "colab": {
          "base_uri": "https://localhost:8080/"
        },
        "cellView": "form"
      },
      "execution_count": 10,
      "outputs": [
        {
          "output_type": "stream",
          "name": "stdout",
          "text": [
            "Cual es el valor de la base?: 10\n",
            "Cual es el valor de su altura?: 20\n",
            "El area del triangulo de base 10.0, altura 20.0 es de: 100.0\n"
          ]
        }
      ]
    },
    {
      "cell_type": "code",
      "source": [
        "# @title Programa 5\n",
        "medida_cm = float(input(\"Cuanto mide en centimetros?: \"))\n",
        "medida_ft = int(medida_cm / 30.48)\n",
        "residuo = round(((medida_cm % 30.48) / (2.54)), 2)\n",
        "print(f\"Mide {medida_ft} pies con {residuo} pulgadas\")\n"
      ],
      "metadata": {
        "colab": {
          "base_uri": "https://localhost:8080/"
        },
        "cellView": "form",
        "id": "zQ5nUvEQxokJ",
        "outputId": "c52ff309-b880-4571-d8ae-7b5bed7396c0"
      },
      "execution_count": 27,
      "outputs": [
        {
          "output_type": "stream",
          "name": "stdout",
          "text": [
            "Cuanto mide en centimetros?: 178\n",
            "Mide 5 pies con 10.08 pulgadas\n"
          ]
        }
      ]
    },
    {
      "cell_type": "code",
      "source": [
        "# @title Programa 6\n",
        "centigrados = float(input(\"Cuantos grados celcius?: \"))\n",
        "farenh = (centigrados * (9/5)) + 32 \n",
        "print(f\"{centigrados} grados celcius son {farenh} grados farenheit\", end = \"\")\n",
        "print(f\" y {centigrados + 273.15} grados Kelvin\")"
      ],
      "metadata": {
        "colab": {
          "base_uri": "https://localhost:8080/"
        },
        "cellView": "form",
        "id": "4A5MF3CX05_s",
        "outputId": "99f857bf-6ca7-439a-b872-3f0d34a87c66"
      },
      "execution_count": 33,
      "outputs": [
        {
          "output_type": "stream",
          "name": "stdout",
          "text": [
            "Cuantos grados celcius?: 0\n",
            "0.0 grados celcius son 32.0 grados farenheit y 273.15 grados Kelvin\n"
          ]
        }
      ]
    },
    {
      "cell_type": "code",
      "source": [
        "# @title Programa 7\n",
        "parcial1 = int(input(\"Dame la calificacion del primer parcial: \"))\n",
        "parcial2 = int(input(\"Dame la calificacion del segundo parcial: \"))\n",
        "parcial3 = int(input(\"Dame la calificacion del tercer parcial: \"))\n",
        "parcial4 = int(input(\"Dame la calificacion del cuarto parcial: \"))\n",
        "promedio = parcial1 + parcial2 + parcial3 + parcial4\n",
        "print(f\"El promedio final del estudiante es de {round(promedio/4, 2)}\")"
      ],
      "metadata": {
        "colab": {
          "base_uri": "https://localhost:8080/"
        },
        "cellView": "form",
        "id": "ie12tG2o3Etz",
        "outputId": "4ee76d7a-6c29-46d6-ab3c-87e4afd43d01"
      },
      "execution_count": 34,
      "outputs": [
        {
          "output_type": "stream",
          "name": "stdout",
          "text": [
            "Dame la calificacion del primer parcial: 10\n",
            "Dame la calificacion del segundo parcial: 10\n",
            "Dame la calificacion del tercer parcial: 10\n",
            "Dame la calificacion del cuarto parcial: 9\n",
            "El promedio final del estudiante es de 9.75\n"
          ]
        }
      ]
    }
  ]
}