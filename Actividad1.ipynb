{
  "nbformat": 4,
  "nbformat_minor": 0,
  "metadata": {
    "colab": {
      "provenance": [],
      "authorship_tag": "ABX9TyMe8mAxdQu7H2GhTjv+ywY+",
      "include_colab_link": true
    },
    "kernelspec": {
      "name": "python3",
      "display_name": "Python 3"
    },
    "language_info": {
      "name": "python"
    }
  },
  "cells": [
    {
      "cell_type": "markdown",
      "metadata": {
        "id": "view-in-github",
        "colab_type": "text"
      },
      "source": [
        "<a href=\"https://colab.research.google.com/github/GerardoTsuchiya/Lenguade-de-Programacion-en-Python/blob/main/Actividad1.ipynb\" target=\"_parent\"><img src=\"https://colab.research.google.com/assets/colab-badge.svg\" alt=\"Open In Colab\"/></a>"
      ]
    },
    {
      "cell_type": "code",
      "execution_count": null,
      "metadata": {
        "colab": {
          "base_uri": "https://localhost:8080/"
        },
        "id": "wOV3s7i0EjZB",
        "outputId": "509cb8a7-53ef-43b0-efbd-a688311b38a3",
        "cellView": "form"
      },
      "outputs": [
        {
          "output_type": "stream",
          "name": "stdout",
          "text": [
            "Hola mundo\n"
          ]
        }
      ],
      "source": [
        "# @title Programa 1\n",
        "print(\"Hola \", end=\"\")\n",
        "print(\"mundo\")"
      ]
    },
    {
      "cell_type": "code",
      "source": [
        "# @title Programa 2\n",
        "num1 = 10\n",
        "num2 = 5\n",
        "suma = num1 + num2\n",
        "print(num1, \" + \", num2, \" = \", suma)"
      ],
      "metadata": {
        "cellView": "form",
        "colab": {
          "base_uri": "https://localhost:8080/"
        },
        "id": "LKBjmN8HxTgk",
        "outputId": "1f5e7513-e642-4315-be1f-b298b678c5ec"
      },
      "execution_count": 1,
      "outputs": [
        {
          "output_type": "stream",
          "name": "stdout",
          "text": [
            "10  +  5  =  15\n"
          ]
        }
      ]
    },
    {
      "cell_type": "code",
      "source": [
        "# @title Programa 3\n",
        "num1 = 10\n",
        "num2 = 4\n",
        "print(\"Suma: \", num1, \" + \", num2, \" = \", num1+num2)\n",
        "print(\"Resta: \", num1, \" - \", num2, \" = \", num1-num2)\n",
        "print(\"Multiplicacion: \", num1, \" * \", num2, \" = \", num1*num2)\n",
        "print(\"Divicion: \", num1, \" / \", num2, \" = \", num1/num2)"
      ],
      "metadata": {
        "cellView": "form",
        "colab": {
          "base_uri": "https://localhost:8080/"
        },
        "id": "DhIxNFLSyIkT",
        "outputId": "26691b77-18f0-42d9-c98d-1f8669a347b2"
      },
      "execution_count": 3,
      "outputs": [
        {
          "output_type": "stream",
          "name": "stdout",
          "text": [
            "Suma:  10  +  4  =  14\n",
            "Resta:  10  -  4  =  6\n",
            "Multiplicacion:  10  *  4  =  40\n",
            "Divicion:  10  /  4  =  2.5\n"
          ]
        }
      ]
    },
    {
      "cell_type": "code",
      "source": [
        "# @title Programa 4\n",
        "base = 10\n",
        "altura = 20\n",
        "area_triangulo = base*altura/2\n",
        "print(\"El area del triangulo de base \", base, \", altura \", altura, \" es de:\", area_triangulo)"
      ],
      "metadata": {
        "colab": {
          "base_uri": "https://localhost:8080/"
        },
        "id": "ueNyjuDPzA3k",
        "outputId": "c134e4fd-2f75-447d-a888-8fced009ec32"
      },
      "execution_count": 5,
      "outputs": [
        {
          "output_type": "stream",
          "name": "stdout",
          "text": [
            "El area del triangulo de base  10 , altura  20  es de: 100.0\n"
          ]
        }
      ]
    }
  ]
}