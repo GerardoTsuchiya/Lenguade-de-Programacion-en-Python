{
  "nbformat": 4,
  "nbformat_minor": 0,
  "metadata": {
    "colab": {
      "provenance": [],
      "authorship_tag": "ABX9TyMzti6EJZk+Wqoe03z2+IL0",
      "include_colab_link": true
    },
    "kernelspec": {
      "name": "python3",
      "display_name": "Python 3"
    },
    "language_info": {
      "name": "python"
    }
  },
  "cells": [
    {
      "cell_type": "markdown",
      "metadata": {
        "id": "view-in-github",
        "colab_type": "text"
      },
      "source": [
        "<a href=\"https://colab.research.google.com/github/GerardoTsuchiya/Lenguade-de-Programacion-en-Python/blob/main/Actividad_5.ipynb\" target=\"_parent\"><img src=\"https://colab.research.google.com/assets/colab-badge.svg\" alt=\"Open In Colab\"/></a>"
      ]
    },
    {
      "cell_type": "markdown",
      "source": [
        "# Parte 1:"
      ],
      "metadata": {
        "id": "0_ijbBzde1BA"
      }
    },
    {
      "cell_type": "markdown",
      "source": [
        "1.- Programa en Python que genere 40 números aleatorios entre el 0 y 200, desplegar los números y la leyenda de cada número si es par o impar , la cantidad de los números pares e impares así como la suma de los números pares o impares."
      ],
      "metadata": {
        "id": "IXYgAZ_EW_Qb"
      }
    },
    {
      "cell_type": "code",
      "execution_count": null,
      "metadata": {
        "id": "32OLdT0n9exE"
      },
      "outputs": [],
      "source": [
        "import random\n",
        "suma_par = 0\n",
        "suma_impar = 0\n",
        "for i in range(1, 41, 1):\n",
        "    num = random.randint(0, 200)\n",
        "    if num%2 == 0:\n",
        "        print(f\"{i} = {num} es par\")\n",
        "        suma_par = suma_par + num\n",
        "    else:\n",
        "        print(f\"{i} = {num} es impar\")\n",
        "        suma_impar = suma_impar + num\n",
        "        \n",
        "print(f\"\\nLa suma de los numeros pares es: {suma_par}\")\n",
        "print(f\"La suma de los numeros impares es: {suma_impar}\")"
      ]
    },
    {
      "cell_type": "markdown",
      "source": [
        "2.- Programa en Python que despliegue la tabla de multiplicar de un número dado (número entre el 1 y 20)."
      ],
      "metadata": {
        "id": "5MImv_FUXEMJ"
      }
    },
    {
      "cell_type": "code",
      "source": [
        "try:\n",
        "    num = int(input(\"Dame un numero entero del 1 al 20: \"))\n",
        "    if num >= 1 and num <= 20:\n",
        "        for i in range(0, 10, 1):\n",
        "            print(f\"{num} * {i+1} = {num * (i+1)}\")\n",
        "    else:\n",
        "        print(\"Solo numeros de 1 a 20\")\n",
        "        \n",
        "except ValueError:\n",
        "    print(\"Escriba solo numeros\")"
      ],
      "metadata": {
        "id": "g5agQv35KI2v"
      },
      "execution_count": null,
      "outputs": []
    },
    {
      "cell_type": "markdown",
      "source": [
        "3.- Programa en Python que lea una calificación, las calificación deberá estar en el rango de 0 a 100, si hay un error de captura, mostrar mensaje de error. con la calificación correcta mostrar msg de aprobado reprobado. "
      ],
      "metadata": {
        "id": "Ro7tMF-QXT9Y"
      }
    },
    {
      "cell_type": "code",
      "source": [
        "try:\n",
        "    calif = float(input(\"Dame tu calificacion final: \"))\n",
        "    if calif >= 60:\n",
        "        print(\"Aprobado\")\n",
        "    else:\n",
        "        print(\"Reprobado\")\n",
        "except ValueError:\n",
        "    print(\"Escriba solo numeros\")"
      ],
      "metadata": {
        "id": "746A8iboQhZo"
      },
      "execution_count": null,
      "outputs": []
    },
    {
      "cell_type": "markdown",
      "source": [
        "4.- Programa en Python que lea n cantidad de números enteros dentro de un rango dado (> 0 ) , el programa deberá terminar cuando el usuario introduzca el número cero.\n",
        "\n",
        "Desplegar la suma de números y la media."
      ],
      "metadata": {
        "id": "pDSTjc7SapBa"
      }
    },
    {
      "cell_type": "code",
      "source": [
        "suma = 0\n",
        "contador = 0\n",
        "\n",
        "while (True):\n",
        "    num = int(input(\"Dame un numero (Utiliza 0 para salir): \"))\n",
        "    suma += num\n",
        "    contador += 1\n",
        "\n",
        "    if num == 0:\n",
        "        break\n",
        "\n",
        "print(f\"La suma es: {suma}\\nY el promedio es {suma / (contador-1)}\")"
      ],
      "metadata": {
        "id": "3LEoxkVGasbQ"
      },
      "execution_count": null,
      "outputs": []
    },
    {
      "cell_type": "markdown",
      "source": [
        "5.- Programa en Python que sirva para leer el promedio de una materia. donde el usuario tendrá un máximo de 3 oportunidades de cursar la materia, si el promedio es aprobado, felicitarlo y continuar el siguiente semestre, si promedio es reprobado deberá salir mensaje de repetir materia o es baja académica si ha reprobado 3 veces. "
      ],
      "metadata": {
        "id": "gKIZov3qcUea"
      }
    },
    {
      "cell_type": "code",
      "source": [
        "intento = 0\n",
        "while (True):\n",
        "    promedio = float(input(\"Dame el promedio de la materia: \"))\n",
        "    if promedio >= 60:\n",
        "        print(\"Felicidades, pasaste\")\n",
        "        break\n",
        "    else:\n",
        "        intento += 1\n",
        "        if intento != 3:\n",
        "            print(\"Debes repetir la materia\")\n",
        "        else:\n",
        "            print(\"Reprobaste 3 veces, baja academica\")\n",
        "            break"
      ],
      "metadata": {
        "id": "UgR9Ez7BcV-e"
      },
      "execution_count": null,
      "outputs": []
    },
    {
      "cell_type": "markdown",
      "source": [
        "# PARTE 2\n",
        "\n"
      ],
      "metadata": {
        "id": "sDXs3xFBeoTA"
      }
    },
    {
      "cell_type": "markdown",
      "source": [
        "1.- Función que lea n cantidad de números hasta que el usuario lo desee, desplegar la suma de los números, media y valor de los números mayores y menores."
      ],
      "metadata": {
        "id": "yQx6mbejevuj"
      }
    },
    {
      "cell_type": "code",
      "source": [
        "def operaciones():\n",
        "  num = int(input(\"Dame un numero: \"))\n",
        "  suma = 0\n",
        "  contador = 0\n",
        "  num_mayor = num\n",
        "  num_menor = num\n",
        "\n",
        "  while(True):\n",
        "      suma += num\n",
        "      contador += 1\n",
        "      seguir = input(\"Quieres continuar? s/n: \")\n",
        "\n",
        "      if seguir == \"s\":\n",
        "          num = int(input(\"Dame otro numero: \"))\n",
        "          if num > num_mayor:\n",
        "              num_mayor = num\n",
        "          elif num < num_menor:\n",
        "              num_menor = num\n",
        "      else:\n",
        "          break\n",
        "\n",
        "  print(f\"Suma de los numeros: {suma}\\nPromedio: {suma / contador}\")\n",
        "  print(f\"El numero mayor es: {num_mayor}\\nEl numero menor es: {num_menor}\")\n",
        "\n",
        "operaciones()     \n"
      ],
      "metadata": {
        "id": "qKMfnymGezyO"
      },
      "execution_count": null,
      "outputs": []
    },
    {
      "cell_type": "markdown",
      "source": [
        "2.- Función que genere 15 números impares entre 10 y 60 o máximo de 25 números. desplegar la media de los pares y media de impares."
      ],
      "metadata": {
        "id": "vL0nx3vPjSoh"
      }
    },
    {
      "cell_type": "code",
      "source": [
        "from random import randint\n",
        "\n",
        "def impares():\n",
        "    suma_par = 0\n",
        "    suma_impar = 0\n",
        "    contador_par = 0\n",
        "    contador_impar = 0\n",
        "    \n",
        "    for i in range(25):\n",
        "        num = randint(10, 60)\n",
        "\n",
        "        if num%2 == 0:\n",
        "            contador_par += 1\n",
        "            suma_par += num\n",
        "            print(f\"{num} -- Par #{contador_par}\")\n",
        "        else:\n",
        "            contador_impar += 1\n",
        "            suma_impar += num\n",
        "            print(f\"{num} -- Impar#{contador_impar}\")\n",
        "\n",
        "            if contador_impar == 15:\n",
        "                break\n",
        "\n",
        "    print(f\"Media de pares: {suma_par / contador_par}\")\n",
        "    print(f\"Media de impares: {suma_impar / contador_impar}\")\n",
        "\n",
        "impares()\n"
      ],
      "metadata": {
        "colab": {
          "base_uri": "https://localhost:8080/"
        },
        "id": "_daFTIz4jTR-",
        "outputId": "072e07ed-b1ba-4c27-eca8-ff4fd933c1ac"
      },
      "execution_count": 60,
      "outputs": [
        {
          "output_type": "stream",
          "name": "stdout",
          "text": [
            "41 -- Impar#1\n",
            "31 -- Impar#2\n",
            "29 -- Impar#3\n",
            "10 -- Par #1\n",
            "15 -- Impar#4\n",
            "24 -- Par #2\n",
            "29 -- Impar#5\n",
            "23 -- Impar#6\n",
            "24 -- Par #3\n",
            "42 -- Par #4\n",
            "45 -- Impar#7\n",
            "40 -- Par #5\n",
            "53 -- Impar#8\n",
            "14 -- Par #6\n",
            "52 -- Par #7\n",
            "13 -- Impar#9\n",
            "41 -- Impar#10\n",
            "48 -- Par #8\n",
            "31 -- Impar#11\n",
            "35 -- Impar#12\n",
            "45 -- Impar#13\n",
            "19 -- Impar#14\n",
            "31 -- Impar#15\n",
            "Media de pares: 31.75\n",
            "Media de impares: 32.06666666666667\n"
          ]
        }
      ]
    },
    {
      "cell_type": "markdown",
      "source": [
        "3.- Función que sirva para leer y validar un número dentro de un rango dado por el usuario. repetir esta acción hasta que el usuario lo desee, desplegar cantidad de números y promedio de los números."
      ],
      "metadata": {
        "id": "iL2ESrPHm8bn"
      }
    },
    {
      "cell_type": "code",
      "source": [
        "def rango(min, max):\n",
        "    contador = 0\n",
        "    suma = 0\n",
        "    num = int(input(\"Dame un numero a validar: \"))\n",
        "\n",
        "    while(True):\n",
        "        if num in range(min, max):\n",
        "            suma += num\n",
        "            contador += 1\n",
        "            seguir = input(\"Numero validado, quieres continuar? s/n: \")\n",
        "\n",
        "            if seguir == \"s\":\n",
        "                num = int(input(\"Dame otro numero a validar: \"))\n",
        "            else:\n",
        "                break\n",
        "        else:\n",
        "            seguir = input(\"Numero no esta dentro del rango, quieres continuar? s/n: \")\n",
        "\n",
        "            if seguir == \"s\":\n",
        "                num = int(input(\"Dame otro numero a validar: \"))\n",
        "            else:\n",
        "                break\n",
        "\n",
        "    print(f\"La cantidad de numeros validados es de: {contador}\")\n",
        "    print(f\"La media de los numeros validados es de: {suma / contador}\")\n",
        "\n",
        "min = int(input(\"Cual quieres que sea el numero minimo del rango: \"))\n",
        "max = int(input(\"Cual quieres que sea el numero maximo del rango: \"))\n",
        "rango(min, max)"
      ],
      "metadata": {
        "colab": {
          "base_uri": "https://localhost:8080/"
        },
        "id": "xuoGxq6QnBIw",
        "outputId": "ce135351-63b7-4dc0-eddc-b5bbf913cbe9"
      },
      "execution_count": 62,
      "outputs": [
        {
          "output_type": "stream",
          "name": "stdout",
          "text": [
            "Cual quieres que sea el numero minimo del rango: 5\n",
            "Cual quieres que sea el numero maximo del rango: 10\n",
            "Dame un numero a validar: 6\n",
            "Numero validado, quieres continuar? s/n: s\n",
            "Dame otro numero a validar: 11\n",
            "Numero no esta dentro del rango, quieres continuar? s/n: s\n",
            "Dame otro numero a validar: 6\n",
            "Numero validado, quieres continuar? s/n: n\n",
            "La cantidad de numeros validados es de: 2\n",
            "La media de los numeros validados es de: 6.0\n"
          ]
        }
      ]
    },
    {
      "cell_type": "markdown",
      "source": [
        "4.- Función que reciba como parámetro los valores para el área de un triángulo y retorne su resultado"
      ],
      "metadata": {
        "id": "G6jCZMtFqRWR"
      }
    },
    {
      "cell_type": "code",
      "source": [
        "def area_triangulo(base, altura):\n",
        "    area = (base * altura) / 2\n",
        "\n",
        "    return print(f\"El area del triangulo es: {area}\")\n",
        "\n",
        "base = float(input(\"Dame el valor de la base: \"))\n",
        "altura = float(input(\"Dame el valor de la altura: \"))\n",
        "\n",
        "area_triangulo(base, altura)\n"
      ],
      "metadata": {
        "colab": {
          "base_uri": "https://localhost:8080/"
        },
        "id": "i5Kn0-kmqUMS",
        "outputId": "c0c17d94-b8c3-44cd-8deb-4637ef2e4b8c"
      },
      "execution_count": 63,
      "outputs": [
        {
          "output_type": "stream",
          "name": "stdout",
          "text": [
            "Dame el valor de la base: 10\n",
            "Dame el valor de la altura: 5\n",
            "El area del triangulo es: 25.0\n"
          ]
        }
      ]
    },
    {
      "cell_type": "markdown",
      "source": [
        "5.- Función que sirva para validar un número dentro de un rango dado"
      ],
      "metadata": {
        "id": "RpyAxCScrepG"
      }
    },
    {
      "cell_type": "code",
      "source": [
        "def validar(min, max):\n",
        "    num = int(input(\"Dame un numero a validar: \"))\n",
        "    if num in range(min, max):\n",
        "        print(\"El numero esta dentro del rango\")\n",
        "    else:\n",
        "        print(\"El numero no esta dentro del rango\")\n",
        "\n",
        "min = int(input(\"Valor minimo del rango: \"))\n",
        "max = int(input(\"Valor maximo del rango: \"))\n",
        "validar(min, max)"
      ],
      "metadata": {
        "colab": {
          "base_uri": "https://localhost:8080/"
        },
        "id": "wTFBpOAGrhgp",
        "outputId": "bd80bdc3-c12f-4644-d009-3648b86c3ec2"
      },
      "execution_count": 65,
      "outputs": [
        {
          "output_type": "stream",
          "name": "stdout",
          "text": [
            "Valor minimo del rango: 0\n",
            "Valor maximo del rango: 100\n",
            "Dame un numero a validar: 500\n",
            "El numero no esta dentro del rango\n"
          ]
        }
      ]
    }
  ]
}