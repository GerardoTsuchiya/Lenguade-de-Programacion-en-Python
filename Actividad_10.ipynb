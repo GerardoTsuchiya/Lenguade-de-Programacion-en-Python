{
  "nbformat": 4,
  "nbformat_minor": 0,
  "metadata": {
    "colab": {
      "provenance": [],
      "authorship_tag": "ABX9TyMZ5JXognRUEY7caP1qulTU",
      "include_colab_link": true
    },
    "kernelspec": {
      "name": "python3",
      "display_name": "Python 3"
    },
    "language_info": {
      "name": "python"
    }
  },
  "cells": [
    {
      "cell_type": "markdown",
      "metadata": {
        "id": "view-in-github",
        "colab_type": "text"
      },
      "source": [
        "<a href=\"https://colab.research.google.com/github/GerardoTsuchiya/Lenguade-de-Programacion-en-Python/blob/main/Actividad_10.ipynb\" target=\"_parent\"><img src=\"https://colab.research.google.com/assets/colab-badge.svg\" alt=\"Open In Colab\"/></a>"
      ]
    },
    {
      "cell_type": "code",
      "execution_count": 70,
      "metadata": {
        "id": "mKqpoVgxeBLh"
      },
      "outputs": [],
      "source": [
        "import random\n",
        "from IPython.display import clear_output\n",
        "from operator import itemgetter"
      ]
    },
    {
      "cell_type": "code",
      "source": [
        "def vali_num(ri=-320000, rf=320000, msg = \"Dame un numero: \", msg2=\"Error de rango \", msg3=\"Solo numeros \"):\n",
        "\n",
        "  while True:\n",
        "      try:\n",
        "          num =  int(input(msg))\n",
        "      except ValueError:\n",
        "          print(msg3)\n",
        "          continue\n",
        "      if num not in range(ri, rf):\n",
        "          print(msg2)\n",
        "          continue\n",
        "      else:\n",
        "          break\n",
        "\n",
        "  return num"
      ],
      "metadata": {
        "id": "fqN5Frr0nRKY"
      },
      "execution_count": 4,
      "outputs": []
    },
    {
      "cell_type": "code",
      "source": [
        "def crea_aleatorio(lista):\n",
        "    llaves = [\"Id\", \"Nombre\", \"Apellido paterno\", \"Apellido materno\", \"Sexo\", \"Edad\"]\n",
        "    nombres_h = [\"Gerardo\", \"Bastian\", \"Mateo\", \"Pedro\", \"Guillermo\", \"Roberto\"]\n",
        "    nombres_m = [\"Alicia\", \"Elena\", \"Midori\", \"Sandra\", \"Eiko\", \"Paty\"]\n",
        "    paterno = [\"Yepez\", \"Tsuchiya\", \"Enriquez\", \"Silva\", \"Serrano\", \"Osuna\", \"Gonzales\"]\n",
        "    materno = [\"Perez\", \"Duarte\", \"Rosas\", \"Dominguez\", \"Hurtado\", \"Garces\", \"Rocha\"]\n",
        "    sexo = [\"H\", \"M\"]\n",
        "\n",
        "    while True:\n",
        "      persona = []\n",
        "      id_repet = 0\n",
        "      while id_repet == 0:\n",
        "          id = random.randint(1000, 5000)\n",
        "          id_repet = (lista, id)\n",
        "\n",
        "      persona.append(id)\n",
        "      x = random.randint(0, 1)\n",
        "      if x == 0:\n",
        "        persona.append(random.choice(nombres_h))\n",
        "      if x == 1:\n",
        "        persona.append(random.choice(nombres_m))\n",
        "\n",
        "      persona.append(random.choice(paterno))\n",
        "      persona.append(random.choice(materno))\n",
        "      persona.append(sexo[x])\n",
        "      edad = random.randint(18, 60)\n",
        "      persona.append(edad)\n",
        "\n",
        "      creado = dict(zip(llaves, persona))\n",
        "      lista.append(creado)\n",
        "      \n",
        "      print(\"Agregado. Deseas agregar otro?\")\n",
        "      otro = vali_num(1, 3, \"1.- Si\\n2.- No \")\n",
        "      if otro == 2:\n",
        "        break"
      ],
      "metadata": {
        "id": "b3oXDMqunSub"
      },
      "execution_count": 77,
      "outputs": []
    },
    {
      "cell_type": "code",
      "source": [
        "def crea_manual(lista):\n",
        "    llaves = [\"Id\", \"Nombre\", \"Apellido paterno\", \"Apellido materno\", \"Sexo\", \"Edad\"]\n",
        "\n",
        "    while True:\n",
        "      persona = []\n",
        "      id_repet = 0\n",
        "      while id_repet == 0:\n",
        "          id = vali_num(0000, 5001, \"Ingresa el ID: \")\n",
        "          id_repet = vali_id(lista, id)\n",
        "\n",
        "      persona.append(id)\n",
        "      nombre = input(\"Ingresa tu nombre: \")\n",
        "      persona.append(nombre)\n",
        "      appat = input(\"Ingresa tu apellido paterno: \")\n",
        "      persona.append(appat)\n",
        "      apmat = input(\"Ingresa tu apellido materno: \")\n",
        "      persona.append(apmat)\n",
        "      sexo = vali_num(1, 3, \"Ingresa tu sexo\\n1.- Hombre\\n2.- Mujer \")\n",
        "      if sexo == 1:\n",
        "          sexo = \"H\"\n",
        "          persona.append(sexo)\n",
        "      if sexo == 2:\n",
        "          sexo = \"M\"\n",
        "          persona.append(sexo)\n",
        "      edad = vali_num(18, 61, \"Ingresa tu edad: \")\n",
        "      persona.append(edad)\n",
        "\n",
        "      creado = dict(zip(llaves, persona))\n",
        "      lista.append(creado)\n",
        "\n",
        "      print(\"Registro completo. Gustas agregar otro?\")\n",
        "      otro = vali_num(1, 3, \"1.- Si\\n2.- No \")\n",
        "      if otro == 2:\n",
        "          break"
      ],
      "metadata": {
        "id": "4--NH-erMRUj"
      },
      "execution_count": null,
      "outputs": []
    },
    {
      "cell_type": "code",
      "source": [
        "def impri_lista(lista):\n",
        "    print(\"{:<20}{:<20}{:<20}{:<20}{:<20}{:<20}\".format('Id','Nombre','Apellido paterno','Apellido materno','Sexo','Edad'))\n",
        "    for diccionario in lista:\n",
        "      print(\"{:<20}{:<20}{:<20}{:<20}{:<20}{:<20}\".format(diccionario.get(\"Id\"), diccionario.get(\"Nombre\"), diccionario.get(\"Apellido paterno\"), diccionario.get(\"Apellido materno\"), diccionario.get(\"Sexo\"), diccionario.get(\"Edad\")))\n",
        "\n",
        "impri_lista(lista)"
      ],
      "metadata": {
        "id": "ruG-UGEWVS-C"
      },
      "execution_count": null,
      "outputs": []
    },
    {
      "cell_type": "code",
      "source": [
        "def busq_id(lista):\n",
        "    found = []\n",
        "    id_buscar = vali_num(1000, 5001, \"Ingresa el ID a buscar: \")\n",
        "\n",
        "    for diccionario in lista:\n",
        "        if diccionario.get(\"Id\") == id_buscar:\n",
        "          print(f\"Se encontro una persona con el ID: {id_buscar}\")\n",
        "          found.append(diccionario)\n",
        "\n",
        "          op = vali_num(1, 3, \"Desea ver la informacion?\\n1.- Si\\n2.- No  \")\n",
        "          if op == 1:\n",
        "            print(\"{:<20}{:<20}{:<20}{:<20}{:<20}{:<20}\".format('Id','Nombre','Apellido paterno','Apellido materno','Sexo','Edad'))\n",
        "            for diccionario in found:\n",
        "              print(\"{:<20}{:<20}{:<20}{:<20}{:<20}{:<20}\".format(diccionario.get(\"Id\"), diccionario.get(\"Nombre\"), diccionario.get(\"Apellido paterno\"), diccionario.get(\"Apellido materno\"), diccionario.get(\"Sexo\"), diccionario.get(\"Edad\")))\n",
        "        else:\n",
        "          print(f\"No se encontro una persona con el ID: {id_buscar}\")   "
      ],
      "metadata": {
        "id": "iAIzBDuZYFk6"
      },
      "execution_count": 78,
      "outputs": []
    },
    {
      "cell_type": "code",
      "source": [
        "def ordena_lista(lista):\n",
        "    lista_ord = sorted(lista, key=itemgetter('Id'))\n",
        "    if lista_ord == lista:\n",
        "      print(\"La lista ya se encuentra ordenada\")\n",
        "    else:\n",
        "      print(\"Lista ordenada\")\n",
        "      lista = lista_ord\n",
        "      op = vali_num(1, 3, \"Gusta ver la lista ordenada?\\n1.- Si\\n2.- No \")\n",
        "      if op == 1:\n",
        "        impri_lista(lista)"
      ],
      "metadata": {
        "id": "osdOC9LxazrK"
      },
      "execution_count": 79,
      "outputs": []
    },
    {
      "cell_type": "code",
      "source": [
        "def vali_id(lista, id):\n",
        "    for diccionario in lista:\n",
        "      if diccionario.get(\"Id\") == id:\n",
        "        print(\"Esta ID ya existe, intenta otra\")\n",
        "        return 0\n",
        "\n",
        "    return 1"
      ],
      "metadata": {
        "id": "qHfRJWw4M_rh"
      },
      "execution_count": 80,
      "outputs": []
    },
    {
      "cell_type": "code",
      "source": [
        "def elim_id(lista):\n",
        "    found = []\n",
        "    id_elim = vali_num(1000, 5001, \"Ingresa el ID a eliminar: \")\n",
        "\n",
        "    for i, diccionario in enumerate(lista):\n",
        "        if diccionario.get(\"Id\") == id_elim:\n",
        "          print(f\"Se encontro una persona con el ID: {id_elim}\")\n",
        "          found.append(diccionario)\n",
        "\n",
        "          print(\"{:<20}{:<20}{:<20}{:<20}{:<20}{:<20}\".format('Id','Nombre','Apellido paterno','Apellido materno','Sexo','Edad'))\n",
        "          for diccionario in found:\n",
        "              print(\"{:<20}{:<20}{:<20}{:<20}{:<20}{:<20}\".format(diccionario.get(\"Id\"), diccionario.get(\"Nombre\"), diccionario.get(\"Apellido paterno\"), diccionario.get(\"Apellido materno\"), diccionario.get(\"Sexo\"), diccionario.get(\"Edad\")))\n",
        "\n",
        "          op = vali_num(1, 3, \"Esta seguro de querer eliminar esta entrada?\\n1.- Si\\n2.- No  \")\n",
        "          if op == 1:\n",
        "            print(f\"Se borro la entrada con el ID: {id_elim}\")\n",
        "            del lista[i]\n",
        "        \n",
        "        else:\n",
        "          print(f\"No se encontro una persona con el ID: {id_elim}\")"
      ],
      "metadata": {
        "id": "SDCaHHBDhzi7"
      },
      "execution_count": 82,
      "outputs": []
    },
    {
      "cell_type": "code",
      "source": [
        "def menu():\n",
        "    print(\"Menu:\")\n",
        "    print(\"1.- Agregar automaticamente\")\n",
        "    print(\"2.- Agregar manualmente\")\n",
        "    print(\"3.- Imprimir lista\")\n",
        "    print(\"4.- Buscar ID\")\n",
        "    print(\"5.- Ordenar lista\")\n",
        "    print(\"6.- Eliminar ID\")\n",
        "    print(\"7.- Eliminar lista\")\n",
        "    print(\"0.- Salir\")"
      ],
      "metadata": {
        "id": "2uL8RmU-EtPH"
      },
      "execution_count": 84,
      "outputs": []
    },
    {
      "cell_type": "code",
      "source": [
        "lista = []\n",
        "while True:\n",
        "  menu()\n",
        "  opcion = vali_num(0, 8, \"Ingresa la funcion que quieres utilizar: \")\n",
        "\n",
        "  if opcion == 1:\n",
        "    crea_aleatorio(lista)\n",
        "    \n",
        "    input(\"Presiona ENTER para continuar \")\n",
        "    clear_output()\n",
        "    continue\n",
        "  elif opcion == 2:\n",
        "    crea_manual(lista)\n",
        "    input(\"Presiona ENTER para continuar\")\n",
        "    clear_output()\n",
        "    continue\n",
        "  elif opcion == 3:\n",
        "    impri_lista(lista)\n",
        "    input(\"Presiona ENTER para continuar\")\n",
        "    clear_output()\n",
        "    continue\n",
        "  elif opcion == 4:\n",
        "    busq_id(lista)\n",
        "    input(\"Presiona ENTER para continuar\")\n",
        "    clear_output()\n",
        "    continue\n",
        "  elif opcion == 5:\n",
        "    ordena_lista(lista)\n",
        "    input(\"Presiona ENTER para continuar\")\n",
        "    clear_output()\n",
        "    continue\n",
        "  elif opcion == 6:\n",
        "    elim_id(lista)\n",
        "    input(\"Presiona ENTER para continuar\")\n",
        "    clear_output()\n",
        "    continue\n",
        "  elif opcion == 7:\n",
        "    lista = []\n",
        "    print(\"Lista eliminada.\")\n",
        "    input(\"Presiona ENTER para continuar\")\n",
        "    continue\n",
        "  elif opcion == 0:\n",
        "    break"
      ],
      "metadata": {
        "colab": {
          "base_uri": "https://localhost:8080/"
        },
        "id": "OYPgMB9ojpss",
        "outputId": "a2d4405b-2944-4a42-a95a-807a233b2181"
      },
      "execution_count": 85,
      "outputs": [
        {
          "name": "stdout",
          "output_type": "stream",
          "text": [
            "Menu:\n",
            "1.- Agregar automaticamente\n",
            "2.- Agregar manualmente\n",
            "3.- Imprimir lista\n",
            "4.- Buscar ID\n",
            "5.- Ordenar lista\n",
            "6.- Eliminar ID\n",
            "7.- Eliminar lista\n",
            "0.- Salir\n",
            "Ingresa la funcion que quieres utilizar: 0\n"
          ]
        }
      ]
    }
  ]
}