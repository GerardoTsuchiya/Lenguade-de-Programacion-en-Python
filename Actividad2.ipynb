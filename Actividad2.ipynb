{
  "nbformat": 4,
  "nbformat_minor": 0,
  "metadata": {
    "colab": {
      "provenance": [],
      "authorship_tag": "ABX9TyN/bdiVdZ1urEohsMBmK1GJ",
      "include_colab_link": true
    },
    "kernelspec": {
      "name": "python3",
      "display_name": "Python 3"
    },
    "language_info": {
      "name": "python"
    }
  },
  "cells": [
    {
      "cell_type": "markdown",
      "metadata": {
        "id": "view-in-github",
        "colab_type": "text"
      },
      "source": [
        "<a href=\"https://colab.research.google.com/github/GerardoTsuchiya/Lenguade-de-Programacion-en-Python/blob/main/Actividad2.ipynb\" target=\"_parent\"><img src=\"https://colab.research.google.com/assets/colab-badge.svg\" alt=\"Open In Colab\"/></a>"
      ]
    },
    {
      "cell_type": "markdown",
      "source": [
        "# Actividad 2"
      ],
      "metadata": {
        "id": "Rhm6E9wb6mpK"
      }
    },
    {
      "cell_type": "markdown",
      "source": [
        "###  1.- Programa en Python que lea 2 números enteros, usar una condición y analizar los dos números y desplegar cual de los números es el mayor. 1"
      ],
      "metadata": {
        "id": "da1JX0q66gu_"
      }
    },
    {
      "cell_type": "code",
      "execution_count": null,
      "metadata": {
        "id": "SoKgb8JQfj1z",
        "colab": {
          "base_uri": "https://localhost:8080/"
        },
        "outputId": "113a0577-70a2-4780-c42c-c03b185e5846"
      },
      "outputs": [
        {
          "output_type": "stream",
          "name": "stdout",
          "text": [
            "Escriba un numero entero: 10\n",
            "Escriba otro numero entero: 11\n",
            "El numero mayor es 11\n"
          ]
        }
      ],
      "source": [
        "\n",
        "numero_1 = int(input(\"Escriba un numero entero: \"))\n",
        "numero_2 = int(input(\"Escriba otro numero entero: \"))\n",
        "\n",
        "if numero_1 > numero_2:\n",
        "    print(f\"El numero mayor es {numero_1}\")\n",
        "\n",
        "if numero_2 > numero_1:\n",
        "    print(f\"El numero mayor es {numero_2}\")"
      ]
    },
    {
      "cell_type": "markdown",
      "source": [
        "### 2.- Programa en PythonAlgoritmo que lea 4 calificaciones de un alumno, calcular y desplegar el promedio acompañado de la leyenda \"APROBADO\" o \"REPROBADO\""
      ],
      "metadata": {
        "id": "azCaWfNR6tKY"
      }
    },
    {
      "cell_type": "code",
      "source": [
        "410\n",
        "calif1 = int(input(\"Dame la primera calificacion: \"))\n",
        "calif2 = int(input(\"Dame la segunda calificacion: \"))\n",
        "calif3 = int(input(\"Dame la tercera calificacion: \"))\n",
        "calif4 = int(input(\"Dame la cuarta calificacion: \"))\n",
        "\n",
        "prom = (calif1 + calif2 + calif3 + calif4) / 4\n",
        "\n",
        "if prom >= 60:\n",
        "    print(f\"APROBADO, promedio = {prom}\")\n",
        "if prom < 60:\n",
        "    print(f\"REPROBADO, promedio = {prom}\")"
      ],
      "metadata": {
        "id": "aIeSYavY3n3b",
        "colab": {
          "base_uri": "https://localhost:8080/"
        },
        "outputId": "a868fdc0-166f-43b4-8564-dc4f32e9e4c1"
      },
      "execution_count": 23,
      "outputs": [
        {
          "output_type": "stream",
          "name": "stdout",
          "text": [
            "Dame la primera calificacion: 100\n",
            "Dame la segunda calificacion: 50\n",
            "Dame la tercera calificacion: 60\n",
            "Dame la cuarta calificacion: 45\n",
            "APROBADO, promedio = 63.75\n"
          ]
        }
      ]
    },
    {
      "cell_type": "markdown",
      "source": [
        "### 3.- Programa en PythonAlgoritmo que a través de opciones (1.- HOMBRE 2.- MUJER ) preguntar al usuario cual es su sexo y desplegar la leyenda “HOMBRE ”, “MUJER”"
      ],
      "metadata": {
        "id": "MOyMzA2963Wu"
      }
    },
    {
      "cell_type": "code",
      "source": [
        "print(\"Elige una opcion\")\n",
        "print(\"1.- Hombre\")\n",
        "print(\"2.- Mujer\")\n",
        "\n",
        "opcion = int(input())\n",
        "if opcion == 1:\n",
        "    print(\"Hola, eres hombre\")\n",
        "\n",
        "if opcion == 2:\n",
        "    print(\"Hola, eres mujer\")"
      ],
      "metadata": {
        "colab": {
          "base_uri": "https://localhost:8080/"
        },
        "id": "TPUILam-69gQ",
        "outputId": "5ad86382-d952-4052-a00a-9ef9dc6aa171"
      },
      "execution_count": 10,
      "outputs": [
        {
          "output_type": "stream",
          "name": "stdout",
          "text": [
            "Elige una opcion\n",
            "1.- Hombre\n",
            "2.- Mujer\n",
            "2\n",
            "Hola, eres mujer\n"
          ]
        }
      ]
    },
    {
      "cell_type": "markdown",
      "source": [
        "### 4.- Programa en Python que lea un número entero, y desplegar si el número es “PAR” o “IMPAR”"
      ],
      "metadata": {
        "id": "5Aq1BfQj7zHo"
      }
    },
    {
      "cell_type": "code",
      "source": [
        "numero = int(input(\"Dame un numero entero: \"))\n",
        "\n",
        "if numero % 2 == 0:\n",
        "    print(\"El numero es par\")\n",
        "if numero % 2 != 0:\n",
        "    print(\"El numero es impar\")"
      ],
      "metadata": {
        "colab": {
          "base_uri": "https://localhost:8080/"
        },
        "id": "asN4FpRE7180",
        "outputId": "8bf12930-8aff-43f2-8a40-2a033cf737de"
      },
      "execution_count": 15,
      "outputs": [
        {
          "output_type": "stream",
          "name": "stdout",
          "text": [
            "Dame un numero entero: 3\n",
            "El numero es impar\n"
          ]
        }
      ]
    },
    {
      "cell_type": "markdown",
      "source": [
        "### 5.- Programa en Python que lea 2 números enteros, usar una condición y analizar los dos números y desplegar cual de los números es el mayor."
      ],
      "metadata": {
        "id": "PoeIhYki8Ojz"
      }
    },
    {
      "cell_type": "code",
      "source": [
        "num1 = int(input(\"Dame un numero entero: \"))\n",
        "num2 = int(input(\"Dame otro numero entero:\"))\n",
        "\n",
        "if num1 > num2:\n",
        "    print(f\"El numero {num1} es el mayor\")\n",
        "else:\n",
        "    print(f\"El numero {num2} es el mayor\")"
      ],
      "metadata": {
        "colab": {
          "base_uri": "https://localhost:8080/"
        },
        "id": "KFZL23_f8U6O",
        "outputId": "53eba085-430a-468f-e9ea-b1761e5219a4"
      },
      "execution_count": 18,
      "outputs": [
        {
          "output_type": "stream",
          "name": "stdout",
          "text": [
            "Dame un numero entero: 10\n",
            "Dame otro numero entero:5\n",
            "El numero 10 es el mayor\n"
          ]
        }
      ]
    },
    {
      "cell_type": "markdown",
      "source": [
        "### 6.- Programa en Python que lea 4 calificaciones de un alumno, calcular y desplegar el promedio acompañado de la leyenda APROBADO o REPROBADO"
      ],
      "metadata": {
        "id": "i4WNfGUC9L3v"
      }
    },
    {
      "cell_type": "code",
      "source": [
        "calif1 = int(input(\"Dame la primera calificacion: \"))\n",
        "calif2 = int(input(\"Dame la segunda calificacion: \"))\n",
        "calif3 = int(input(\"Dame la tercera calificacion: \"))\n",
        "calif4 = int(input(\"Dame la cuarta calificacion: \"))\n",
        "prom = (calif1 + calif2 + calif3 + calif4) / 4\n",
        "\n",
        "if prom >= 60:\n",
        "    print(f\"APROBADO, promedio = {prom}\")\n",
        "else:\n",
        "    print(f\"REPROBADO, promedio = {prom}\")"
      ],
      "metadata": {
        "colab": {
          "base_uri": "https://localhost:8080/"
        },
        "id": "89w8NQIu9ai4",
        "outputId": "c5bdefcf-b8a3-4aa4-bccd-98a611ba9115"
      },
      "execution_count": 20,
      "outputs": [
        {
          "output_type": "stream",
          "name": "stdout",
          "text": [
            "Dame la primera calificacion: 100\n",
            "Dame la segunda calificacion: 50\n",
            "Dame la tercera calificacion: 100\n",
            "Dame la cuarta calificacion: 50\n",
            "APROBADO, promedio = 75.0\n"
          ]
        }
      ]
    },
    {
      "cell_type": "markdown",
      "source": [
        "### 7.- Programa en Python que a través de opciones (1.- HOMBRE 2.- MUJER ) preguntar al usuario cual es su sexo y desplegar la leyenda “HOMBRE ”, “MUJER”"
      ],
      "metadata": {
        "id": "-BZoVn7I98nc"
      }
    },
    {
      "cell_type": "code",
      "source": [
        "print(\"Elige una opcion\")\n",
        "print(\"1.- Hombre\")\n",
        "print(\"2.- Mujer\")\n",
        "\n",
        "opcion = int(input())\n",
        "if opcion == 1:\n",
        "    print(\"Hola, eres hombre\")\n",
        "else:\n",
        "    print(\"Hola, eres mujer\")"
      ],
      "metadata": {
        "colab": {
          "base_uri": "https://localhost:8080/"
        },
        "id": "iBo8qjjP9_OE",
        "outputId": "bfb7582e-6c7d-4971-b63b-11810ab32a8f"
      },
      "execution_count": 21,
      "outputs": [
        {
          "output_type": "stream",
          "name": "stdout",
          "text": [
            "Elige una opcion\n",
            "1.- Hombre\n",
            "2.- Mujer\n",
            "2\n",
            "Hola, eres mujer\n"
          ]
        }
      ]
    },
    {
      "cell_type": "markdown",
      "source": [
        "### 8.- Programa en Python que lea un número entero, y desplegar si el número es “PAR” o “IMPAR”"
      ],
      "metadata": {
        "id": "UAdoQZdO-IG1"
      }
    },
    {
      "cell_type": "code",
      "source": [
        "numero = int(input(\"Dame un numero entero: \"))\n",
        "\n",
        "if numero % 2 == 0:\n",
        "    print(\"El numero es par\")\n",
        "else:\n",
        "    print(\"El numero es impar\")"
      ],
      "metadata": {
        "colab": {
          "base_uri": "https://localhost:8080/"
        },
        "id": "gdoegnIT-OBj",
        "outputId": "9010844a-2aa9-40f0-eeaf-b63d58a6513f"
      },
      "execution_count": 22,
      "outputs": [
        {
          "output_type": "stream",
          "name": "stdout",
          "text": [
            "Dame un numero entero: 5\n",
            "El numero es impar\n"
          ]
        }
      ]
    },
    {
      "cell_type": "markdown",
      "source": [],
      "metadata": {
        "id": "Ldlysx6P-byC"
      }
    }
  ]
}