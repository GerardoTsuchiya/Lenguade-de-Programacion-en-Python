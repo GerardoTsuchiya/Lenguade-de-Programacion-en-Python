{
  "nbformat": 4,
  "nbformat_minor": 0,
  "metadata": {
    "colab": {
      "provenance": [],
      "authorship_tag": "ABX9TyOSlgoP9pf/3htpq4y3vZi3",
      "include_colab_link": true
    },
    "kernelspec": {
      "name": "python3",
      "display_name": "Python 3"
    },
    "language_info": {
      "name": "python"
    }
  },
  "cells": [
    {
      "cell_type": "markdown",
      "metadata": {
        "id": "view-in-github",
        "colab_type": "text"
      },
      "source": [
        "<a href=\"https://colab.research.google.com/github/GerardoTsuchiya/Lenguade-de-Programacion-en-Python/blob/main/Actividad_9.ipynb\" target=\"_parent\"><img src=\"https://colab.research.google.com/assets/colab-badge.svg\" alt=\"Open In Colab\"/></a>"
      ]
    },
    {
      "cell_type": "code",
      "execution_count": 4,
      "metadata": {
        "id": "InPPeqFzj1EW"
      },
      "outputs": [],
      "source": [
        "import random\n",
        "from IPython.display import clear_output"
      ]
    },
    {
      "cell_type": "code",
      "source": [
        "def vali_num(ri=-320000, rf=320000, msg = \"Dame un numero: \", msg2=\"Error de rango \", msg3=\"Solo numeros \"):\n",
        "\n",
        "  while True:\n",
        "      try:\n",
        "          num =  int(input(msg))\n",
        "      except ValueError:\n",
        "          print(msg3)\n",
        "          continue\n",
        "      if num not in range(ri, rf):\n",
        "          print(msg2)\n",
        "          continue\n",
        "      else:\n",
        "          break\n",
        "\n",
        "  return num"
      ],
      "metadata": {
        "id": "er0cjvsWuXAA"
      },
      "execution_count": 63,
      "outputs": []
    },
    {
      "cell_type": "code",
      "source": [
        "def crea():\n",
        "    llaves = [\"Id\", \"Nombre\", \"Apellido paterno\", \"Apellido materno\", \"Sexo\", \"Edad\"]\n",
        "    id = [654987, 154896, 745896, 356410, 852463, 875421, 123984]\n",
        "    nombre = [\"Gerardo\", \"Bastian\", \"Mateo\", \"Alicia\", \"Elena\", \"Midori\", \"Pedro\"]\n",
        "    paterno = [\"Yepez\", \"Tsuchiya\", \"Enriquez\", \"Silva\", \"Serrano\", \"Osuna\", \"Gonzales\"]\n",
        "    materno = [\"Perez\", \"Duarte\", \"Rosas\", \"Dominguez\", \"Hurtado\", \"Garces\", \"Rocha\"]\n",
        "    sexo = [\"H\", \"M\"]\n",
        "    edad = [random.randint(18, 28), random.randint(18, 28), random.randint(18, 28), random.randint(18, 28), random.randint(18, 28), random.randint(18, 28), random.randint(18, 28)]\n",
        "    x = random.randint(0, 6)\n",
        "\n",
        "    diccionario = dict(zip(llaves, [id[x], nombre[x], paterno[x], materno[x], sexo[random.randint(0,1)], edad[x]]))\n",
        "\n",
        "    print(\"Diccionario creado\")\n",
        "    return diccionario"
      ],
      "metadata": {
        "id": "sW_Td293j9RN"
      },
      "execution_count": 19,
      "outputs": []
    },
    {
      "cell_type": "code",
      "source": [
        "def imp_dic(diccionario): \n",
        "    llaves = dict.keys(diccionario)\n",
        "    lista = list(llaves)\n",
        "\n",
        "    print(lista)\n",
        "    print(f\"{diccionario['Id']}  {diccionario['Nombre']}        {diccionario['Apellido paterno']}              {diccionario['Apellido materno']}           {diccionario['Sexo']}       {diccionario['Edad']}\")\n"
      ],
      "metadata": {
        "id": "7MFyVKd5pOpX"
      },
      "execution_count": 64,
      "outputs": []
    },
    {
      "cell_type": "code",
      "source": [
        "def menu():\n",
        "    print(\"1.- Crear diccionario\")\n",
        "    print(\"2.- Imprimir diccionario\")\n",
        "    print(\"0.- Salir\")"
      ],
      "metadata": {
        "id": "31CO5JmGuAkH"
      },
      "execution_count": 62,
      "outputs": []
    },
    {
      "cell_type": "code",
      "source": [
        "while True:\n",
        "    menu()\n",
        "    opcion = vali_num(0, 3, \"Elige una opcion: \")\n",
        "\n",
        "    if opcion == 1:\n",
        "        dix = crea()\n",
        "        input(\"Presiona ENTER para limpiar la pantalla\")\n",
        "        clear_output()\n",
        "        continue\n",
        "    elif opcion == 2:\n",
        "        imp_dic(dix)\n",
        "        input(\"Presiona ENTER para limpiar la pantalla\")\n",
        "        clear_output()\n",
        "        continue\n",
        "    elif opcion == 0:\n",
        "        print(\"Gracias por participar\")\n",
        "        break"
      ],
      "metadata": {
        "id": "Nvf49HUauMuq"
      },
      "execution_count": null,
      "outputs": []
    }
  ]
}