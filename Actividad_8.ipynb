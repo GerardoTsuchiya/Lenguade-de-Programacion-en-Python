{
  "nbformat": 4,
  "nbformat_minor": 0,
  "metadata": {
    "colab": {
      "provenance": [],
      "authorship_tag": "ABX9TyOz3HifkVSFbmsPKzUQ1ZYm",
      "include_colab_link": true
    },
    "kernelspec": {
      "name": "python3",
      "display_name": "Python 3"
    },
    "language_info": {
      "name": "python"
    }
  },
  "cells": [
    {
      "cell_type": "markdown",
      "metadata": {
        "id": "view-in-github",
        "colab_type": "text"
      },
      "source": [
        "<a href=\"https://colab.research.google.com/github/GerardoTsuchiya/Lenguade-de-Programacion-en-Python/blob/main/Actividad_8.ipynb\" target=\"_parent\"><img src=\"https://colab.research.google.com/assets/colab-badge.svg\" alt=\"Open In Colab\"/></a>"
      ]
    },
    {
      "cell_type": "markdown",
      "source": [
        "1.- Programa en python que genere un número entre el 1 y 10 (no visible)  preguntarle al usuario que número cree que generó la computadora, el usuario tendrá 3 oportunidades de adivinar. \n",
        "\n",
        "Decir si adivino o si falló en sus 3 intentos.\n",
        "\n",
        " \n",
        "\n",
        "NOTA: 100% VALIDADO (usar función para validar números)\n",
        "\n",
        " \n",
        "\n",
        "NOTA2: El usuario podrá jugar cuantas veces lo desee, al final del juego desplegar cantidad de ganados y perdidos"
      ],
      "metadata": {
        "id": "nIvc8nsUJ-Sl"
      }
    },
    {
      "cell_type": "code",
      "execution_count": 34,
      "metadata": {
        "id": "u2T0CilF6PFL"
      },
      "outputs": [],
      "source": [
        "import random\n",
        "from IPython.display import clear_output"
      ]
    },
    {
      "cell_type": "code",
      "source": [
        "def vali_num(ri=-320000, rf=320000, msg = \"Dame un numero: \", msg2=\"Error de rango \", msg3=\"Solo numeros \"):\n",
        "\n",
        "  while True:\n",
        "      try:\n",
        "          num =  int(input(msg))\n",
        "      except ValueError:\n",
        "          print(msg3)\n",
        "          continue\n",
        "      if num not in range(ri, rf):\n",
        "          print(msg2)\n",
        "          continue\n",
        "      else:\n",
        "          break\n",
        "\n",
        "  return num"
      ],
      "metadata": {
        "id": "cLqYivnl6g-3"
      },
      "execution_count": 59,
      "outputs": []
    },
    {
      "cell_type": "code",
      "source": [
        "def intentos(num, intento = 3, msg = \"Acertaste!\", msg2 = \"No le atinaste\", ganados = 0, perdidos = 0):\n",
        "  \n",
        "  while(intento != 0):\n",
        "      num_adi = vali_num(msg = \"Que numero se genero?: \")\n",
        "\n",
        "      if num_adi == num:\n",
        "          print(\"Acertaste!\")\n",
        "          ganados += 1\n",
        "          break\n",
        "      else:\n",
        "          print(msg2, f\", te quedan {intento-1} intentos\")\n",
        "          intento -= 1\n",
        "  if intento == 0 and ganados == 0:\n",
        "      perdidos += 1\n",
        "\n",
        "  print(f\"El numero era {num}\")\n",
        "  return ganados, perdidos\n"
      ],
      "metadata": {
        "id": "MgKQxv11Dv4Y"
      },
      "execution_count": 62,
      "outputs": []
    },
    {
      "cell_type": "code",
      "source": [
        "def salida_juego(si = 's', no = 'n', msg = \"Quieres volver a jugar? \", msg2 = \"Gracias por jugar\"):\n",
        "  while(True):\n",
        "    print(msg)\n",
        "    res = input(f\"{si}/{no}: \")\n",
        "    if res == si:\n",
        "        salida = 1\n",
        "        break\n",
        "    elif res == no:\n",
        "        print(msg2)\n",
        "        salida = 0\n",
        "        break\n",
        "    else:\n",
        "        print(f\"Solo {si} para si, y {no} para no.\")\n",
        "        salida = 1\n",
        "\n",
        "  return salida"
      ],
      "metadata": {
        "id": "jlsA_HQeKuox"
      },
      "execution_count": 17,
      "outputs": []
    },
    {
      "cell_type": "code",
      "source": [
        "def atinar_num(ri = 1, rf = 10, msg = \"Se genero un numero entre \"):\n",
        "  x = 1\n",
        "  w = 0\n",
        "  l = 0\n",
        "  while(x != 0):\n",
        "    clear_output()\n",
        "    num_ran = random.randint(ri, rf)\n",
        "    print(msg, f\"{ri} y {rf}\")\n",
        "\n",
        "    w, l = intentos(num_ran, ganados = w, perdidos = l)\n",
        "    x = salida_juego()\n",
        "  \n",
        "  print(f\"Juegos ganados: {w}\\nJuegos perdidos: {l}\")"
      ],
      "metadata": {
        "id": "USJ99CBSJDyc"
      },
      "execution_count": 31,
      "outputs": []
    },
    {
      "cell_type": "code",
      "source": [
        "atinar_num()"
      ],
      "metadata": {
        "id": "pobWkoKmLwRn"
      },
      "execution_count": null,
      "outputs": []
    },
    {
      "cell_type": "markdown",
      "source": [
        "2.- El juego Busca Número muestra una lista de 10 numeros, sin mostrar su contenido, \n",
        "\n",
        "Al usuario se le muestra un número que se generó aleatoriamente y el usuario tendrá 3 intentos de adivinar en qué índice del arreglo se encuentra. \n",
        "\n",
        "El usuario recibirá un mensaje que diga GANASTE, PERDISTE, TIENES UN NUEVO INTENTO\n",
        "\n",
        "El usuario podrá jugar cuantas veces lo desee.\n",
        "\n",
        "\n",
        "\n",
        "NOTA: La lista se deberá llenar con números aleatorios del 1 al 10 no repetidos.\n",
        "\n",
        "(Hacer una función que regrese la lista con los 10 números sin repetir)"
      ],
      "metadata": {
        "id": "aDNWbPPQKElP"
      }
    },
    {
      "cell_type": "code",
      "source": [
        "def lista_ciclo(num_posiciones = 10, base = 0):\n",
        "  lista = []\n",
        "\n",
        "  for i in range(num_posiciones):\n",
        "      lista.append(base)\n",
        "\n",
        "  i = 1\n",
        "  while True:\n",
        "      pos = random.randint(0, 9)\n",
        "      if lista[pos] == 0:\n",
        "          lista[pos] = i\n",
        "          i += 1\n",
        "      else:\n",
        "          continue\n",
        "      if i <= 10:\n",
        "          continue\n",
        "      break\n",
        "  return lista"
      ],
      "metadata": {
        "id": "bRpB27wWKIIo"
      },
      "execution_count": 103,
      "outputs": []
    },
    {
      "cell_type": "code",
      "source": [
        "def lista_random1(ri = 1, rf = 11):\n",
        "  x = list(range(1, 11))\n",
        "  lista = random.sample(x, 10)\n",
        "\n",
        "  return lista"
      ],
      "metadata": {
        "id": "1rE0pW1IN7bm"
      },
      "execution_count": 104,
      "outputs": []
    },
    {
      "cell_type": "code",
      "source": [
        "def lista_random2(ri = 1, rf = 11):\n",
        "  lista = list(range(1, 11))\n",
        "  random.shuffle(lista)\n",
        "\n",
        "  return lista"
      ],
      "metadata": {
        "id": "Z_V5Z_oGO2Ym"
      },
      "execution_count": 105,
      "outputs": []
    },
    {
      "cell_type": "code",
      "source": [
        "def intentos_lista(lista, num, posicion, intento = 3, prompt = \"x\", msg = \"Acertaste!\", msg2 = \"No le atinaste\", ganados = 0, perdidos = 0):\n",
        "  \n",
        "  while(intento != 0):\n",
        "      num_adi = vali_num(msg = prompt)\n",
        "\n",
        "      if lista[num_adi] == num:\n",
        "          print(\"Acertaste!\")\n",
        "          ganados += 1\n",
        "          break\n",
        "      else:\n",
        "          print(msg2, f\", te quedan {intento-1} intentos\")\n",
        "          intento -= 1\n",
        "  if intento == 0 and ganados == 0:\n",
        "      perdidos += 1\n",
        "\n",
        "  print(f\"El numero {num} esta en la posicion {posicion}\")\n",
        "  print(lista)\n",
        "  return ganados, perdidos"
      ],
      "metadata": {
        "id": "kTwmZpR4T-S1"
      },
      "execution_count": 106,
      "outputs": []
    },
    {
      "cell_type": "code",
      "source": [
        "def juego_ciclo():\n",
        "  clear_output()\n",
        "  x = 1\n",
        "  while (x != 0):\n",
        "    lista = lista_ciclo(10, 0)\n",
        "    indice = random.randint(0, 9)\n",
        "    num = lista[indice]\n",
        "\n",
        "    print(f\"Se genero el numero {num}\\n\")\n",
        "    intentos_lista(lista, num, indice, prompt = \"En que posicion esta?(0 a 9): \")\n",
        "    \n",
        "    x = salida_juego()\n"
      ],
      "metadata": {
        "id": "ezUXsfnOPf6H"
      },
      "execution_count": 107,
      "outputs": []
    },
    {
      "cell_type": "code",
      "source": [
        "def juego_random1():\n",
        "  clear_output()\n",
        "  x = 1\n",
        "  while(x != 0):\n",
        "    lista = lista_random1()\n",
        "    indice = random.randint(0, 9)\n",
        "    num = lista[indice]\n",
        "\n",
        "    print(f\"Se genero el numero {num}\\n\")\n",
        "    intentos_lista(lista, num, indice, prompt = \"En que posicion esta?(0 a 9): \")\n",
        "\n",
        "    x = salida_juego()"
      ],
      "metadata": {
        "id": "49ufGfuRX7Rd"
      },
      "execution_count": 108,
      "outputs": []
    },
    {
      "cell_type": "code",
      "source": [
        "def juego_random2():\n",
        "  clear_output()\n",
        "  x = 1\n",
        "  while(x != 0):\n",
        "    lista = lista_random2()\n",
        "    indice = random.randint(0, 9)\n",
        "    num = lista[indice]\n",
        "\n",
        "    print(f\"Se genero el numero {num}\\n\")\n",
        "    intentos_lista(lista, num, indice, prompt = \"En que posicion esta?(0 a 9): \")\n",
        "\n",
        "    x = salida_juego()\n"
      ],
      "metadata": {
        "id": "kxNUeS-sYjkt"
      },
      "execution_count": 109,
      "outputs": []
    },
    {
      "cell_type": "code",
      "source": [
        "def opciones():\n",
        "  print(\"Menu de juegos\")\n",
        "  print(\"1.- Lista aleatoria con ciclos\")\n",
        "  print(\"2.- Lista aleatoria con funciones random (1)\")\n",
        "  print(\"3.- Lista aleatoria con funciones random (2)\")\n",
        "  print(\"0.- Salir\")"
      ],
      "metadata": {
        "id": "Tm5npec0ZOfn"
      },
      "execution_count": 110,
      "outputs": []
    },
    {
      "cell_type": "code",
      "source": [
        "def menu():\n",
        "  \n",
        "  while True:\n",
        "    opciones()\n",
        "    op = vali_num(0, 4, msg = \"Elige una opcion: \")\n",
        "\n",
        "    if op == 1:\n",
        "        juego_ciclo()\n",
        "        input(\"ENTER para limpiar pantalla\")\n",
        "        clear_output()\n",
        "    elif op == 2:\n",
        "        juego_random1()\n",
        "        input(\"ENTER para limpiar pantalla\")\n",
        "        clear_output()\n",
        "    elif op == 3:\n",
        "        juego_random2()\n",
        "        input(\"ENTER para limpiar pantalla\")\n",
        "        clear_output()\n",
        "    elif op == 0:\n",
        "        print(\"Gracias por participar\")\n",
        "        break"
      ],
      "metadata": {
        "id": "OrCWcZdUbeZg"
      },
      "execution_count": 111,
      "outputs": []
    },
    {
      "cell_type": "code",
      "source": [
        "menu()"
      ],
      "metadata": {
        "colab": {
          "base_uri": "https://localhost:8080/"
        },
        "id": "V4baI-yrcMB-",
        "outputId": "be69904f-2545-40cf-e06b-37bb112b1734"
      },
      "execution_count": 114,
      "outputs": [
        {
          "output_type": "stream",
          "name": "stdout",
          "text": [
            "Menu de juegos\n",
            "1.- Lista aleatoria con ciclos\n",
            "2.- Lista aleatoria con funciones random (1)\n",
            "3.- Lista aleatoria con funciones random (2)\n",
            "0.- Salir\n",
            "Elige una opcion: 0\n",
            "Gracias por participar\n"
          ]
        }
      ]
    }
  ]
}